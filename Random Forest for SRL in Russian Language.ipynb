{
 "cells": [
  {
   "cell_type": "code",
   "execution_count": 1,
   "metadata": {
    "colab": {
     "base_uri": "https://localhost:8080/"
    },
    "id": "WuMV8dwiBEZN",
    "outputId": "728742f2-4b50-4a7b-9f1d-3eb8ce47c44f"
   },
   "outputs": [],
   "source": [
    "import xml.etree.ElementTree as et \n",
    "import pandas as pd\n",
    "import stanza\n",
    "from tqdm import tqdm\n",
    "from nltk import BigramCollocationFinder\n",
    "from nltk.collocations import TrigramCollocationFinder\n",
    "from nltk.metrics import TrigramAssocMeasures\n",
    "from nltk.metrics import BigramAssocMeasures\n",
    "import nltk\n",
    "from nltk.tokenize import word_tokenize\n",
    "import gensim\n",
    "from gensim.models import word2vec\n",
    "import os\n",
    "import matplotlib.pyplot as plt"
   ]
  },
  {
   "cell_type": "code",
   "execution_count": 2,
   "metadata": {
    "colab": {
     "base_uri": "https://localhost:8080/"
    },
    "id": "dhAQJhL-JO5K",
    "outputId": "7e623d82-6cf8-4bed-ad59-ed075d7ca4fb"
   },
   "outputs": [
    {
     "name": "stderr",
     "output_type": "stream",
     "text": [
      "Downloading https://raw.githubusercontent.com/stanfordnlp/stanza-resources/master/resources_1.2.0.json: 128kB [00:00, 16.4MB/s]                    \n",
      "2021-05-22 16:42:41 INFO: Downloading default packages for language: ru (Russian)...\n",
      "2021-05-22 16:42:42 INFO: File exists: /Users/ciwwwnd/stanza_resources/ru/default.zip.\n",
      "2021-05-22 16:42:46 INFO: Finished downloading models and saved to /Users/ciwwwnd/stanza_resources.\n",
      "2021-05-22 16:42:46 INFO: Loading these models for language: ru (Russian):\n",
      "=========================\n",
      "| Processor | Package   |\n",
      "-------------------------\n",
      "| tokenize  | syntagrus |\n",
      "| pos       | syntagrus |\n",
      "| lemma     | syntagrus |\n",
      "| depparse  | syntagrus |\n",
      "| ner       | wikiner   |\n",
      "=========================\n",
      "\n",
      "2021-05-22 16:42:46 INFO: Use device: cpu\n",
      "2021-05-22 16:42:46 INFO: Loading: tokenize\n",
      "2021-05-22 16:42:46 INFO: Loading: pos\n",
      "2021-05-22 16:42:46 INFO: Loading: lemma\n",
      "2021-05-22 16:42:46 INFO: Loading: depparse\n",
      "2021-05-22 16:42:47 INFO: Loading: ner\n",
      "2021-05-22 16:42:48 INFO: Done loading processors!\n"
     ]
    }
   ],
   "source": [
    "stanza.download('ru')\n",
    "stanza_nlp = stanza.Pipeline('ru')"
   ]
  },
  {
   "cell_type": "code",
   "execution_count": 3,
   "metadata": {
    "id": "TPegMRoIBElK"
   },
   "outputs": [],
   "source": [
    "etree = et.parse('/Users/ciwwwnd/Desktop/論文/тетрадки и прочее/final_version.xml')\n",
    "root = etree.getroot()"
   ]
  },
  {
   "cell_type": "code",
   "execution_count": 4,
   "metadata": {
    "id": "BjYPBG3csUMs"
   },
   "outputs": [],
   "source": [
    "tok_ids = []\n",
    "poses = []\n",
    "animacies = []\n",
    "genders = []\n",
    "nums = []\n",
    "cases = []\n",
    "funcs = []\n",
    "left_c_pos = []\n",
    "right_c_pos = []\n",
    "deprel = []\n",
    "head_pos = []\n",
    "left_deprel = []\n",
    "head_pos_left_c = []\n",
    "right_deprel = []\n",
    "head_pos_right_c = []"
   ]
  },
  {
   "cell_type": "code",
   "execution_count": 5,
   "metadata": {},
   "outputs": [
    {
     "name": "stderr",
     "output_type": "stream",
     "text": [
      "2021-05-22 16:42:53 INFO: Loading these models for language: ru (Russian):\n",
      "=========================\n",
      "| Processor | Package   |\n",
      "-------------------------\n",
      "| tokenize  | syntagrus |\n",
      "| pos       | syntagrus |\n",
      "| lemma     | syntagrus |\n",
      "| depparse  | syntagrus |\n",
      "=========================\n",
      "\n",
      "2021-05-22 16:42:53 INFO: Use device: cpu\n",
      "2021-05-22 16:42:53 INFO: Loading: tokenize\n",
      "2021-05-22 16:42:53 INFO: Loading: pos\n",
      "2021-05-22 16:42:53 INFO: Loading: lemma\n",
      "2021-05-22 16:42:53 INFO: Loading: depparse\n",
      "2021-05-22 16:42:54 INFO: Done loading processors!\n"
     ]
    }
   ],
   "source": [
    "nlp = stanza.Pipeline(lang='ru', processors='tokenize, pos,lemma, depparse')\n",
    "\n",
    "def get_tree_info(strng, text):\n",
    "    doc = nlp(strng)\n",
    "    doc = doc.to_dict()\n",
    "    wrds = doc[0]\n",
    "    for w in wrds:\n",
    "        if w['text'] == text:\n",
    "            deprel = w['deprel']\n",
    "            head_id = w['head']\n",
    "            for w in wrds:\n",
    "                if w['id'] == head_id:\n",
    "                    head_pos = w['upos']\n",
    "                    return deprel, head_pos"
   ]
  },
  {
   "cell_type": "code",
   "execution_count": 6,
   "metadata": {
    "colab": {
     "base_uri": "https://localhost:8080/"
    },
    "id": "AeKcFoeDBEuI",
    "outputId": "d96241eb-9079-4689-c8e7-a72c248a6cb7",
    "scrolled": true
   },
   "outputs": [
    {
     "name": "stderr",
     "output_type": "stream",
     "text": [
      "27it [30:10, 67.07s/it] "
     ]
    },
    {
     "name": "stdout",
     "output_type": "stream",
     "text": [
      "4030 4030 4030 4030 4030 4030 4030 4030 4030 4030 4030\n"
     ]
    },
    {
     "name": "stderr",
     "output_type": "stream",
     "text": [
      "\n"
     ]
    }
   ],
   "source": [
    "for paragraphs in tqdm(root.iter('paragraphs')):\n",
    "    paragraph = paragraphs.findall('paragraph')\n",
    "    for prr in paragraph:\n",
    "        sent = prr.findall('sentence')\n",
    "        for st in sent:\n",
    "            src = st.find('source')\n",
    "            st_str = et.tostring(src, encoding='unicode')\n",
    "            my_sent = ''.join(et.fromstring(st_str).itertext())\n",
    "            tk = st.find('tokens')\n",
    "            tkk = tk.findall('token')\n",
    "            for t in range(len(tkk)):\n",
    "                tfr = tkk[t].find('tfr')\n",
    "                v = tfr.find('v')\n",
    "                l = v.find('l')\n",
    "                gs = l.findall('g')\n",
    "                d = gs[0].attrib\n",
    "                if str(d['v']) == 'NOUN':\n",
    "                    if len(gs) == 6:\n",
    "                        d_id = tkk[t].attrib\n",
    "                        tok_ids.append(d_id['id'])\n",
    "                        poses.append(gs[0].attrib['v'])\n",
    "                        animacies.append(gs[1].attrib['v'])\n",
    "                        genders.append(gs[2].attrib['v'])\n",
    "                        nums.append(gs[3].attrib['v'])\n",
    "                        cases.append(gs[4].attrib['v'])\n",
    "                        funcs.append(gs[5].attrib['v'])\n",
    "                        \n",
    "                        node_info = get_tree_info(my_sent, str(tkk[t].attrib['text']))\n",
    "                        if node_info:\n",
    "                            deprel.append(node_info[0])\n",
    "                            head_pos.append(node_info[1])\n",
    "                        else:\n",
    "                            deprel.append(None)\n",
    "                            head_pos.append(None)\n",
    "                                \n",
    "                        if t > 0:\n",
    "                            left_context = tkk[t - 1]\n",
    "                            tfr_lc = left_context.find('tfr')\n",
    "                            v = tfr_lc.find('v')\n",
    "                            l = v.find('l')\n",
    "                            gs = l.findall('g')\n",
    "                            d = gs[0].attrib\n",
    "                            left_c_pos.append(str(d['v']))\n",
    "                            \n",
    "                            node_info = get_tree_info(my_sent, str(tkk[t - 1].attrib['text']))\n",
    "                            if node_info:\n",
    "                                left_deprel.append(node_info[0])\n",
    "                                head_pos_left_c.append(node_info[1])\n",
    "                            else:\n",
    "                                left_deprel.append(None)\n",
    "                                head_pos_left_c.append(None)\n",
    "                        else:\n",
    "                            left_c_pos.append(None)\n",
    "                            left_deprel.append(None)\n",
    "                            head_pos_left_c.append(None)\n",
    "                            \n",
    "                        if tkk[t] != tkk[-1]:\n",
    "                            right_context = tkk[t + 1]\n",
    "                            tfr_rc = right_context.find('tfr')\n",
    "                            v = tfr_rc.find('v')\n",
    "                            l = v.find('l')\n",
    "                            gs = l.findall('g')\n",
    "                            d = gs[0].attrib\n",
    "                            right_c_pos.append(str(d['v']))\n",
    "                            \n",
    "                            node_info = get_tree_info(my_sent, str(tkk[t + 1].attrib['text']))\n",
    "                            if node_info:\n",
    "                                right_deprel.append(node_info[0])\n",
    "                                head_pos_right_c.append(node_info[1])\n",
    "                            else:\n",
    "                                right_deprel.append(None)\n",
    "                                head_pos_right_c.append(None)\n",
    "                        else:\n",
    "                            right_c_pos.append(None)\n",
    "                            right_deprel.append(None)\n",
    "                            head_pos_right_c.append(None) \n",
    "    \n",
    "print(len(tok_ids), len(poses), len(animacies), len(genders), len(nums), len(cases), len(funcs),  len(deprel), len(head_pos), len(left_c_pos), len(right_c_pos))\n"
   ]
  },
  {
   "cell_type": "code",
   "execution_count": 7,
   "metadata": {},
   "outputs": [],
   "source": [
    "df = pd.DataFrame({\n",
    "    'id': tok_ids,\n",
    "    'pos': poses,\n",
    "    'animacy': animacies,\n",
    "    'gender': genders,\n",
    "    'number': nums,\n",
    "    'case': cases,\n",
    "    'function': funcs,\n",
    "    'syntax': deprel,\n",
    "    'head pos': head_pos,\n",
    "    'left context pos': left_c_pos,\n",
    "    'right context pos': right_c_pos,\n",
    "    'left context syntax': left_deprel,\n",
    "    'right context syntax': right_deprel,\n",
    "    'left context head pos': head_pos_left_c,\n",
    "    'right context head pos': head_pos_right_c\n",
    "})"
   ]
  },
  {
   "cell_type": "code",
   "execution_count": 8,
   "metadata": {},
   "outputs": [
    {
     "data": {
      "text/html": [
       "<div>\n",
       "<style scoped>\n",
       "    .dataframe tbody tr th:only-of-type {\n",
       "        vertical-align: middle;\n",
       "    }\n",
       "\n",
       "    .dataframe tbody tr th {\n",
       "        vertical-align: top;\n",
       "    }\n",
       "\n",
       "    .dataframe thead th {\n",
       "        text-align: right;\n",
       "    }\n",
       "</style>\n",
       "<table border=\"1\" class=\"dataframe\">\n",
       "  <thead>\n",
       "    <tr style=\"text-align: right;\">\n",
       "      <th></th>\n",
       "      <th>id</th>\n",
       "      <th>pos</th>\n",
       "      <th>animacy</th>\n",
       "      <th>gender</th>\n",
       "      <th>number</th>\n",
       "      <th>case</th>\n",
       "      <th>function</th>\n",
       "      <th>syntax</th>\n",
       "      <th>head pos</th>\n",
       "      <th>left context pos</th>\n",
       "      <th>right context pos</th>\n",
       "      <th>left context syntax</th>\n",
       "      <th>right context syntax</th>\n",
       "      <th>left context head pos</th>\n",
       "      <th>right context head pos</th>\n",
       "    </tr>\n",
       "  </thead>\n",
       "  <tbody>\n",
       "    <tr>\n",
       "      <th>0</th>\n",
       "      <td>2</td>\n",
       "      <td>NOUN</td>\n",
       "      <td>inan</td>\n",
       "      <td>femn</td>\n",
       "      <td>sing</td>\n",
       "      <td>nomn</td>\n",
       "      <td>agent</td>\n",
       "      <td>nsubj</td>\n",
       "      <td>VERB</td>\n",
       "      <td>PNCT</td>\n",
       "      <td>NOUN</td>\n",
       "      <td>punct</td>\n",
       "      <td>nmod</td>\n",
       "      <td>VERB</td>\n",
       "      <td>NOUN</td>\n",
       "    </tr>\n",
       "    <tr>\n",
       "      <th>1</th>\n",
       "      <td>10</td>\n",
       "      <td>NOUN</td>\n",
       "      <td>inan</td>\n",
       "      <td>masc</td>\n",
       "      <td>sing</td>\n",
       "      <td>nomn</td>\n",
       "      <td>posessor</td>\n",
       "      <td>nsubj</td>\n",
       "      <td>VERB</td>\n",
       "      <td>PRCL</td>\n",
       "      <td>NOUN</td>\n",
       "      <td>advmod</td>\n",
       "      <td>nmod</td>\n",
       "      <td>VERB</td>\n",
       "      <td>NOUN</td>\n",
       "    </tr>\n",
       "    <tr>\n",
       "      <th>2</th>\n",
       "      <td>11</td>\n",
       "      <td>NOUN</td>\n",
       "      <td>inan</td>\n",
       "      <td>femn</td>\n",
       "      <td>sing</td>\n",
       "      <td>gent</td>\n",
       "      <td>posessor</td>\n",
       "      <td>nmod</td>\n",
       "      <td>NOUN</td>\n",
       "      <td>NOUN</td>\n",
       "      <td>PREP</td>\n",
       "      <td>nsubj</td>\n",
       "      <td>case</td>\n",
       "      <td>VERB</td>\n",
       "      <td>NOUN</td>\n",
       "    </tr>\n",
       "    <tr>\n",
       "      <th>3</th>\n",
       "      <td>18</td>\n",
       "      <td>NOUN</td>\n",
       "      <td>inan</td>\n",
       "      <td>femn</td>\n",
       "      <td>sing</td>\n",
       "      <td>nomn</td>\n",
       "      <td>agent</td>\n",
       "      <td>nsubj</td>\n",
       "      <td>VERB</td>\n",
       "      <td>PNCT</td>\n",
       "      <td>NOUN</td>\n",
       "      <td>amod</td>\n",
       "      <td>nmod</td>\n",
       "      <td>NOUN</td>\n",
       "      <td>NOUN</td>\n",
       "    </tr>\n",
       "    <tr>\n",
       "      <th>4</th>\n",
       "      <td>51</td>\n",
       "      <td>NOUN</td>\n",
       "      <td>inan</td>\n",
       "      <td>femn</td>\n",
       "      <td>sing</td>\n",
       "      <td>nomn</td>\n",
       "      <td>agent</td>\n",
       "      <td>nsubj</td>\n",
       "      <td>VERB</td>\n",
       "      <td>PNCT</td>\n",
       "      <td>PNCT</td>\n",
       "      <td>punct</td>\n",
       "      <td>punct</td>\n",
       "      <td>NOUN</td>\n",
       "      <td>NOUN</td>\n",
       "    </tr>\n",
       "  </tbody>\n",
       "</table>\n",
       "</div>"
      ],
      "text/plain": [
       "   id   pos animacy gender number  case  function syntax head pos  \\\n",
       "0   2  NOUN    inan   femn   sing  nomn     agent  nsubj     VERB   \n",
       "1  10  NOUN    inan   masc   sing  nomn  posessor  nsubj     VERB   \n",
       "2  11  NOUN    inan   femn   sing  gent  posessor   nmod     NOUN   \n",
       "3  18  NOUN    inan   femn   sing  nomn     agent  nsubj     VERB   \n",
       "4  51  NOUN    inan   femn   sing  nomn     agent  nsubj     VERB   \n",
       "\n",
       "  left context pos right context pos left context syntax right context syntax  \\\n",
       "0             PNCT              NOUN               punct                 nmod   \n",
       "1             PRCL              NOUN              advmod                 nmod   \n",
       "2             NOUN              PREP               nsubj                 case   \n",
       "3             PNCT              NOUN                amod                 nmod   \n",
       "4             PNCT              PNCT               punct                punct   \n",
       "\n",
       "  left context head pos right context head pos  \n",
       "0                  VERB                   NOUN  \n",
       "1                  VERB                   NOUN  \n",
       "2                  VERB                   NOUN  \n",
       "3                  NOUN                   NOUN  \n",
       "4                  NOUN                   NOUN  "
      ]
     },
     "execution_count": 8,
     "metadata": {},
     "output_type": "execute_result"
    }
   ],
   "source": [
    "df.head(5)"
   ]
  },
  {
   "cell_type": "markdown",
   "metadata": {},
   "source": [
    "# Random Forest with an unbalanced dataset"
   ]
  },
  {
   "cell_type": "code",
   "execution_count": 9,
   "metadata": {
    "colab": {
     "base_uri": "https://localhost:8080/",
     "height": 204
    },
    "id": "5S4X32DjBXC1",
    "outputId": "71d37a99-244f-4393-b555-c405703a379f"
   },
   "outputs": [
    {
     "data": {
      "text/html": [
       "<div>\n",
       "<style scoped>\n",
       "    .dataframe tbody tr th:only-of-type {\n",
       "        vertical-align: middle;\n",
       "    }\n",
       "\n",
       "    .dataframe tbody tr th {\n",
       "        vertical-align: top;\n",
       "    }\n",
       "\n",
       "    .dataframe thead th {\n",
       "        text-align: right;\n",
       "    }\n",
       "</style>\n",
       "<table border=\"1\" class=\"dataframe\">\n",
       "  <thead>\n",
       "    <tr style=\"text-align: right;\">\n",
       "      <th></th>\n",
       "      <th>animacy</th>\n",
       "      <th>gender</th>\n",
       "      <th>number</th>\n",
       "      <th>case</th>\n",
       "      <th>syntax</th>\n",
       "      <th>head pos</th>\n",
       "      <th>left context pos</th>\n",
       "      <th>right context pos</th>\n",
       "      <th>left context syntax</th>\n",
       "      <th>right context syntax</th>\n",
       "      <th>left context head pos</th>\n",
       "      <th>right context head pos</th>\n",
       "    </tr>\n",
       "  </thead>\n",
       "  <tbody>\n",
       "    <tr>\n",
       "      <th>0</th>\n",
       "      <td>inan</td>\n",
       "      <td>femn</td>\n",
       "      <td>sing</td>\n",
       "      <td>nomn</td>\n",
       "      <td>nsubj</td>\n",
       "      <td>VERB</td>\n",
       "      <td>PNCT</td>\n",
       "      <td>NOUN</td>\n",
       "      <td>punct</td>\n",
       "      <td>nmod</td>\n",
       "      <td>VERB</td>\n",
       "      <td>NOUN</td>\n",
       "    </tr>\n",
       "    <tr>\n",
       "      <th>1</th>\n",
       "      <td>inan</td>\n",
       "      <td>masc</td>\n",
       "      <td>sing</td>\n",
       "      <td>nomn</td>\n",
       "      <td>nsubj</td>\n",
       "      <td>VERB</td>\n",
       "      <td>PRCL</td>\n",
       "      <td>NOUN</td>\n",
       "      <td>advmod</td>\n",
       "      <td>nmod</td>\n",
       "      <td>VERB</td>\n",
       "      <td>NOUN</td>\n",
       "    </tr>\n",
       "    <tr>\n",
       "      <th>2</th>\n",
       "      <td>inan</td>\n",
       "      <td>femn</td>\n",
       "      <td>sing</td>\n",
       "      <td>gent</td>\n",
       "      <td>nmod</td>\n",
       "      <td>NOUN</td>\n",
       "      <td>NOUN</td>\n",
       "      <td>PREP</td>\n",
       "      <td>nsubj</td>\n",
       "      <td>case</td>\n",
       "      <td>VERB</td>\n",
       "      <td>NOUN</td>\n",
       "    </tr>\n",
       "    <tr>\n",
       "      <th>3</th>\n",
       "      <td>inan</td>\n",
       "      <td>femn</td>\n",
       "      <td>sing</td>\n",
       "      <td>nomn</td>\n",
       "      <td>nsubj</td>\n",
       "      <td>VERB</td>\n",
       "      <td>PNCT</td>\n",
       "      <td>NOUN</td>\n",
       "      <td>amod</td>\n",
       "      <td>nmod</td>\n",
       "      <td>NOUN</td>\n",
       "      <td>NOUN</td>\n",
       "    </tr>\n",
       "    <tr>\n",
       "      <th>4</th>\n",
       "      <td>inan</td>\n",
       "      <td>femn</td>\n",
       "      <td>sing</td>\n",
       "      <td>nomn</td>\n",
       "      <td>nsubj</td>\n",
       "      <td>VERB</td>\n",
       "      <td>PNCT</td>\n",
       "      <td>PNCT</td>\n",
       "      <td>punct</td>\n",
       "      <td>punct</td>\n",
       "      <td>NOUN</td>\n",
       "      <td>NOUN</td>\n",
       "    </tr>\n",
       "  </tbody>\n",
       "</table>\n",
       "</div>"
      ],
      "text/plain": [
       "  animacy gender number  case syntax head pos left context pos  \\\n",
       "0    inan   femn   sing  nomn  nsubj     VERB             PNCT   \n",
       "1    inan   masc   sing  nomn  nsubj     VERB             PRCL   \n",
       "2    inan   femn   sing  gent   nmod     NOUN             NOUN   \n",
       "3    inan   femn   sing  nomn  nsubj     VERB             PNCT   \n",
       "4    inan   femn   sing  nomn  nsubj     VERB             PNCT   \n",
       "\n",
       "  right context pos left context syntax right context syntax  \\\n",
       "0              NOUN               punct                 nmod   \n",
       "1              NOUN              advmod                 nmod   \n",
       "2              PREP               nsubj                 case   \n",
       "3              NOUN                amod                 nmod   \n",
       "4              PNCT               punct                punct   \n",
       "\n",
       "  left context head pos right context head pos  \n",
       "0                  VERB                   NOUN  \n",
       "1                  VERB                   NOUN  \n",
       "2                  VERB                   NOUN  \n",
       "3                  NOUN                   NOUN  \n",
       "4                  NOUN                   NOUN  "
      ]
     },
     "execution_count": 9,
     "metadata": {},
     "output_type": "execute_result"
    }
   ],
   "source": [
    "df_2 = df.drop(columns=['id', 'function', 'pos'])\n",
    "df_2.dropna()\n",
    "df_2.head(5)"
   ]
  },
  {
   "cell_type": "code",
   "execution_count": 10,
   "metadata": {
    "colab": {
     "base_uri": "https://localhost:8080/",
     "height": 258
    },
    "id": "FfWAiPxUBXdt",
    "outputId": "014f7ef8-deed-49fd-c3b0-49b3ae701340"
   },
   "outputs": [
    {
     "data": {
      "text/html": [
       "<div>\n",
       "<style scoped>\n",
       "    .dataframe tbody tr th:only-of-type {\n",
       "        vertical-align: middle;\n",
       "    }\n",
       "\n",
       "    .dataframe tbody tr th {\n",
       "        vertical-align: top;\n",
       "    }\n",
       "\n",
       "    .dataframe thead th {\n",
       "        text-align: right;\n",
       "    }\n",
       "</style>\n",
       "<table border=\"1\" class=\"dataframe\">\n",
       "  <thead>\n",
       "    <tr style=\"text-align: right;\">\n",
       "      <th></th>\n",
       "      <th>animacy_anim</th>\n",
       "      <th>animacy_inan</th>\n",
       "      <th>gender_GNdr</th>\n",
       "      <th>gender_femn</th>\n",
       "      <th>gender_masc</th>\n",
       "      <th>gender_ms-f</th>\n",
       "      <th>gender_neut</th>\n",
       "      <th>number_Abbr</th>\n",
       "      <th>number_Fixd</th>\n",
       "      <th>number_Geox</th>\n",
       "      <th>...</th>\n",
       "      <th>right context head pos_CCONJ</th>\n",
       "      <th>right context head pos_DET</th>\n",
       "      <th>right context head pos_NOUN</th>\n",
       "      <th>right context head pos_NUM</th>\n",
       "      <th>right context head pos_PART</th>\n",
       "      <th>right context head pos_PRON</th>\n",
       "      <th>right context head pos_PROPN</th>\n",
       "      <th>right context head pos_PUNCT</th>\n",
       "      <th>right context head pos_SYM</th>\n",
       "      <th>right context head pos_VERB</th>\n",
       "    </tr>\n",
       "  </thead>\n",
       "  <tbody>\n",
       "    <tr>\n",
       "      <th>0</th>\n",
       "      <td>0</td>\n",
       "      <td>1</td>\n",
       "      <td>0</td>\n",
       "      <td>1</td>\n",
       "      <td>0</td>\n",
       "      <td>0</td>\n",
       "      <td>0</td>\n",
       "      <td>0</td>\n",
       "      <td>0</td>\n",
       "      <td>0</td>\n",
       "      <td>...</td>\n",
       "      <td>0</td>\n",
       "      <td>0</td>\n",
       "      <td>1</td>\n",
       "      <td>0</td>\n",
       "      <td>0</td>\n",
       "      <td>0</td>\n",
       "      <td>0</td>\n",
       "      <td>0</td>\n",
       "      <td>0</td>\n",
       "      <td>0</td>\n",
       "    </tr>\n",
       "    <tr>\n",
       "      <th>1</th>\n",
       "      <td>0</td>\n",
       "      <td>1</td>\n",
       "      <td>0</td>\n",
       "      <td>0</td>\n",
       "      <td>1</td>\n",
       "      <td>0</td>\n",
       "      <td>0</td>\n",
       "      <td>0</td>\n",
       "      <td>0</td>\n",
       "      <td>0</td>\n",
       "      <td>...</td>\n",
       "      <td>0</td>\n",
       "      <td>0</td>\n",
       "      <td>1</td>\n",
       "      <td>0</td>\n",
       "      <td>0</td>\n",
       "      <td>0</td>\n",
       "      <td>0</td>\n",
       "      <td>0</td>\n",
       "      <td>0</td>\n",
       "      <td>0</td>\n",
       "    </tr>\n",
       "    <tr>\n",
       "      <th>2</th>\n",
       "      <td>0</td>\n",
       "      <td>1</td>\n",
       "      <td>0</td>\n",
       "      <td>1</td>\n",
       "      <td>0</td>\n",
       "      <td>0</td>\n",
       "      <td>0</td>\n",
       "      <td>0</td>\n",
       "      <td>0</td>\n",
       "      <td>0</td>\n",
       "      <td>...</td>\n",
       "      <td>0</td>\n",
       "      <td>0</td>\n",
       "      <td>1</td>\n",
       "      <td>0</td>\n",
       "      <td>0</td>\n",
       "      <td>0</td>\n",
       "      <td>0</td>\n",
       "      <td>0</td>\n",
       "      <td>0</td>\n",
       "      <td>0</td>\n",
       "    </tr>\n",
       "    <tr>\n",
       "      <th>3</th>\n",
       "      <td>0</td>\n",
       "      <td>1</td>\n",
       "      <td>0</td>\n",
       "      <td>1</td>\n",
       "      <td>0</td>\n",
       "      <td>0</td>\n",
       "      <td>0</td>\n",
       "      <td>0</td>\n",
       "      <td>0</td>\n",
       "      <td>0</td>\n",
       "      <td>...</td>\n",
       "      <td>0</td>\n",
       "      <td>0</td>\n",
       "      <td>1</td>\n",
       "      <td>0</td>\n",
       "      <td>0</td>\n",
       "      <td>0</td>\n",
       "      <td>0</td>\n",
       "      <td>0</td>\n",
       "      <td>0</td>\n",
       "      <td>0</td>\n",
       "    </tr>\n",
       "    <tr>\n",
       "      <th>4</th>\n",
       "      <td>0</td>\n",
       "      <td>1</td>\n",
       "      <td>0</td>\n",
       "      <td>1</td>\n",
       "      <td>0</td>\n",
       "      <td>0</td>\n",
       "      <td>0</td>\n",
       "      <td>0</td>\n",
       "      <td>0</td>\n",
       "      <td>0</td>\n",
       "      <td>...</td>\n",
       "      <td>0</td>\n",
       "      <td>0</td>\n",
       "      <td>1</td>\n",
       "      <td>0</td>\n",
       "      <td>0</td>\n",
       "      <td>0</td>\n",
       "      <td>0</td>\n",
       "      <td>0</td>\n",
       "      <td>0</td>\n",
       "      <td>0</td>\n",
       "    </tr>\n",
       "  </tbody>\n",
       "</table>\n",
       "<p>5 rows × 195 columns</p>\n",
       "</div>"
      ],
      "text/plain": [
       "   animacy_anim  animacy_inan  gender_GNdr  gender_femn  gender_masc  \\\n",
       "0             0             1            0            1            0   \n",
       "1             0             1            0            0            1   \n",
       "2             0             1            0            1            0   \n",
       "3             0             1            0            1            0   \n",
       "4             0             1            0            1            0   \n",
       "\n",
       "   gender_ms-f  gender_neut  number_Abbr  number_Fixd  number_Geox  ...  \\\n",
       "0            0            0            0            0            0  ...   \n",
       "1            0            0            0            0            0  ...   \n",
       "2            0            0            0            0            0  ...   \n",
       "3            0            0            0            0            0  ...   \n",
       "4            0            0            0            0            0  ...   \n",
       "\n",
       "   right context head pos_CCONJ  right context head pos_DET  \\\n",
       "0                             0                           0   \n",
       "1                             0                           0   \n",
       "2                             0                           0   \n",
       "3                             0                           0   \n",
       "4                             0                           0   \n",
       "\n",
       "   right context head pos_NOUN  right context head pos_NUM  \\\n",
       "0                            1                           0   \n",
       "1                            1                           0   \n",
       "2                            1                           0   \n",
       "3                            1                           0   \n",
       "4                            1                           0   \n",
       "\n",
       "   right context head pos_PART  right context head pos_PRON  \\\n",
       "0                            0                            0   \n",
       "1                            0                            0   \n",
       "2                            0                            0   \n",
       "3                            0                            0   \n",
       "4                            0                            0   \n",
       "\n",
       "   right context head pos_PROPN  right context head pos_PUNCT  \\\n",
       "0                             0                             0   \n",
       "1                             0                             0   \n",
       "2                             0                             0   \n",
       "3                             0                             0   \n",
       "4                             0                             0   \n",
       "\n",
       "   right context head pos_SYM  right context head pos_VERB  \n",
       "0                           0                            0  \n",
       "1                           0                            0  \n",
       "2                           0                            0  \n",
       "3                           0                            0  \n",
       "4                           0                            0  \n",
       "\n",
       "[5 rows x 195 columns]"
      ]
     },
     "execution_count": 10,
     "metadata": {},
     "output_type": "execute_result"
    }
   ],
   "source": [
    "df_2 = pd.get_dummies(df_2)\n",
    "df_2.head(5)"
   ]
  },
  {
   "cell_type": "markdown",
   "metadata": {},
   "source": [
    "Clearing random and erroneous data"
   ]
  },
  {
   "cell_type": "code",
   "execution_count": 11,
   "metadata": {
    "colab": {
     "base_uri": "https://localhost:8080/"
    },
    "id": "jnYQl_EfBXvU",
    "outputId": "227b0c61-3f40-47ab-e9c2-ba65f98783fb"
   },
   "outputs": [
    {
     "name": "stdout",
     "output_type": "stream",
     "text": [
      "(4030, 195) (3561, 180)\n"
     ]
    }
   ],
   "source": [
    "df_clean = df_2[df_2['case_sing'] == 0]\n",
    "df_clean = df_clean[df_clean['case_plur'] == 0]\n",
    "df_clean = df_clean[df_clean['case_patient'] == 0]\n",
    "df_clean = df_clean[df_clean['number_Slng'] == 0]\n",
    "df_clean = df_clean[df_clean['case_accs'] == 0]\n",
    "df_clean = df_clean[df_clean['number_Patr'] == 0]\n",
    "df_clean = df_clean[df_clean['number_Orgn'] == 0]\n",
    "df_clean = df_clean[df_clean['number_Name'] == 0]\n",
    "df_clean = df_clean[df_clean['number_Inmx'] == 0]\n",
    "df_clean = df_clean[df_clean['number_Geox'] == 0]\n",
    "df_clean = df_clean[df_clean['number_Fixd'] == 0]\n",
    "df_clean = df_clean[df_clean['number_Abbr'] == 0]\n",
    "df_clean = df_clean[df_clean['gender_GNdr'] == 0]\n",
    "df_clean = df_clean[df_clean['gender_ms-f'] == 0]\n",
    "df_clean = df_clean.drop(columns=['case_sing', 'case_plur', 'case_patient', 'number_Slng', 'case_accs', 'number_Patr', 'number_Orgn', 'number_Name', 'number_Inmx', 'number_Infr', 'number_Geox', 'number_Fixd', 'number_Abbr', 'gender_GNdr', 'gender_ms-f'])\n",
    "\n",
    "print(df_2.shape, df_clean.shape)"
   ]
  },
  {
   "cell_type": "code",
   "execution_count": 12,
   "metadata": {},
   "outputs": [],
   "source": [
    "df_clean['function'] = df['function']"
   ]
  },
  {
   "cell_type": "code",
   "execution_count": 13,
   "metadata": {},
   "outputs": [
    {
     "data": {
      "text/html": [
       "<div>\n",
       "<style scoped>\n",
       "    .dataframe tbody tr th:only-of-type {\n",
       "        vertical-align: middle;\n",
       "    }\n",
       "\n",
       "    .dataframe tbody tr th {\n",
       "        vertical-align: top;\n",
       "    }\n",
       "\n",
       "    .dataframe thead th {\n",
       "        text-align: right;\n",
       "    }\n",
       "</style>\n",
       "<table border=\"1\" class=\"dataframe\">\n",
       "  <thead>\n",
       "    <tr style=\"text-align: right;\">\n",
       "      <th></th>\n",
       "      <th>animacy_anim</th>\n",
       "      <th>animacy_inan</th>\n",
       "      <th>gender_femn</th>\n",
       "      <th>gender_masc</th>\n",
       "      <th>gender_neut</th>\n",
       "      <th>number_Pltm</th>\n",
       "      <th>number_Sgtm</th>\n",
       "      <th>number_plur</th>\n",
       "      <th>number_sing</th>\n",
       "      <th>case_datv</th>\n",
       "      <th>...</th>\n",
       "      <th>right context head pos_DET</th>\n",
       "      <th>right context head pos_NOUN</th>\n",
       "      <th>right context head pos_NUM</th>\n",
       "      <th>right context head pos_PART</th>\n",
       "      <th>right context head pos_PRON</th>\n",
       "      <th>right context head pos_PROPN</th>\n",
       "      <th>right context head pos_PUNCT</th>\n",
       "      <th>right context head pos_SYM</th>\n",
       "      <th>right context head pos_VERB</th>\n",
       "      <th>function</th>\n",
       "    </tr>\n",
       "  </thead>\n",
       "  <tbody>\n",
       "    <tr>\n",
       "      <th>0</th>\n",
       "      <td>0</td>\n",
       "      <td>1</td>\n",
       "      <td>1</td>\n",
       "      <td>0</td>\n",
       "      <td>0</td>\n",
       "      <td>0</td>\n",
       "      <td>0</td>\n",
       "      <td>0</td>\n",
       "      <td>1</td>\n",
       "      <td>0</td>\n",
       "      <td>...</td>\n",
       "      <td>0</td>\n",
       "      <td>1</td>\n",
       "      <td>0</td>\n",
       "      <td>0</td>\n",
       "      <td>0</td>\n",
       "      <td>0</td>\n",
       "      <td>0</td>\n",
       "      <td>0</td>\n",
       "      <td>0</td>\n",
       "      <td>agent</td>\n",
       "    </tr>\n",
       "    <tr>\n",
       "      <th>1</th>\n",
       "      <td>0</td>\n",
       "      <td>1</td>\n",
       "      <td>0</td>\n",
       "      <td>1</td>\n",
       "      <td>0</td>\n",
       "      <td>0</td>\n",
       "      <td>0</td>\n",
       "      <td>0</td>\n",
       "      <td>1</td>\n",
       "      <td>0</td>\n",
       "      <td>...</td>\n",
       "      <td>0</td>\n",
       "      <td>1</td>\n",
       "      <td>0</td>\n",
       "      <td>0</td>\n",
       "      <td>0</td>\n",
       "      <td>0</td>\n",
       "      <td>0</td>\n",
       "      <td>0</td>\n",
       "      <td>0</td>\n",
       "      <td>posessor</td>\n",
       "    </tr>\n",
       "    <tr>\n",
       "      <th>2</th>\n",
       "      <td>0</td>\n",
       "      <td>1</td>\n",
       "      <td>1</td>\n",
       "      <td>0</td>\n",
       "      <td>0</td>\n",
       "      <td>0</td>\n",
       "      <td>0</td>\n",
       "      <td>0</td>\n",
       "      <td>1</td>\n",
       "      <td>0</td>\n",
       "      <td>...</td>\n",
       "      <td>0</td>\n",
       "      <td>1</td>\n",
       "      <td>0</td>\n",
       "      <td>0</td>\n",
       "      <td>0</td>\n",
       "      <td>0</td>\n",
       "      <td>0</td>\n",
       "      <td>0</td>\n",
       "      <td>0</td>\n",
       "      <td>posessor</td>\n",
       "    </tr>\n",
       "  </tbody>\n",
       "</table>\n",
       "<p>3 rows × 181 columns</p>\n",
       "</div>"
      ],
      "text/plain": [
       "   animacy_anim  animacy_inan  gender_femn  gender_masc  gender_neut  \\\n",
       "0             0             1            1            0            0   \n",
       "1             0             1            0            1            0   \n",
       "2             0             1            1            0            0   \n",
       "\n",
       "   number_Pltm  number_Sgtm  number_plur  number_sing  case_datv  ...  \\\n",
       "0            0            0            0            1          0  ...   \n",
       "1            0            0            0            1          0  ...   \n",
       "2            0            0            0            1          0  ...   \n",
       "\n",
       "   right context head pos_DET  right context head pos_NOUN  \\\n",
       "0                           0                            1   \n",
       "1                           0                            1   \n",
       "2                           0                            1   \n",
       "\n",
       "   right context head pos_NUM  right context head pos_PART  \\\n",
       "0                           0                            0   \n",
       "1                           0                            0   \n",
       "2                           0                            0   \n",
       "\n",
       "   right context head pos_PRON  right context head pos_PROPN  \\\n",
       "0                            0                             0   \n",
       "1                            0                             0   \n",
       "2                            0                             0   \n",
       "\n",
       "   right context head pos_PUNCT  right context head pos_SYM  \\\n",
       "0                             0                           0   \n",
       "1                             0                           0   \n",
       "2                             0                           0   \n",
       "\n",
       "   right context head pos_VERB  function  \n",
       "0                            0     agent  \n",
       "1                            0  posessor  \n",
       "2                            0  posessor  \n",
       "\n",
       "[3 rows x 181 columns]"
      ]
     },
     "execution_count": 13,
     "metadata": {},
     "output_type": "execute_result"
    }
   ],
   "source": [
    "df_clean.head(3)"
   ]
  },
  {
   "cell_type": "code",
   "execution_count": 14,
   "metadata": {
    "id": "US7e8yyJBiuk"
   },
   "outputs": [],
   "source": [
    "import numpy as np\n",
    "\n",
    "labels = np.array(df_clean['function'])\n",
    "features= df_clean.drop('function', axis = 1)\n",
    "feature_list = list(features.columns)\n",
    "features = np.array(features)"
   ]
  },
  {
   "cell_type": "markdown",
   "metadata": {},
   "source": [
    "Using Skicit-learn to split data into training and testing sets"
   ]
  },
  {
   "cell_type": "code",
   "execution_count": 15,
   "metadata": {
    "id": "a2hf7QNdBljT"
   },
   "outputs": [],
   "source": [
    "from sklearn.model_selection import train_test_split\n",
    "train_features, test_features, train_labels, test_labels = train_test_split(features, labels, test_size = 0.25,\n",
    "                                                                           random_state = 42)"
   ]
  },
  {
   "cell_type": "code",
   "execution_count": 16,
   "metadata": {
    "colab": {
     "base_uri": "https://localhost:8080/"
    },
    "id": "NOTXZybCBo_n",
    "outputId": "cabe9fe9-15c0-4de9-b3c5-e2d72486cbb4"
   },
   "outputs": [
    {
     "name": "stdout",
     "output_type": "stream",
     "text": [
      "Training Features Shape: (2670, 180)\n",
      "Training Labels Shape: (2670,)\n",
      "Testing Features Shape: (891, 180)\n",
      "Testing Labels Shape: (891,)\n"
     ]
    }
   ],
   "source": [
    "print('Training Features Shape:', train_features.shape)\n",
    "print('Training Labels Shape:', train_labels.shape)\n",
    "print('Testing Features Shape:', test_features.shape)\n",
    "print('Testing Labels Shape:', test_labels.shape)"
   ]
  },
  {
   "cell_type": "markdown",
   "metadata": {},
   "source": [
    "Creating a Gaussian Classifier, training the model"
   ]
  },
  {
   "cell_type": "code",
   "execution_count": 17,
   "metadata": {
    "id": "GRBCBovTBqfs"
   },
   "outputs": [],
   "source": [
    "from sklearn.ensemble import RandomForestClassifier\n",
    "\n",
    "clf=RandomForestClassifier(n_estimators=100)\n",
    "clf.fit(train_features, train_labels)\n",
    "\n",
    "y_pred=clf.predict(test_features)"
   ]
  },
  {
   "cell_type": "markdown",
   "metadata": {},
   "source": [
    "Using scikit-learn metrics module to calculate accuracy score"
   ]
  },
  {
   "cell_type": "code",
   "execution_count": 18,
   "metadata": {
    "colab": {
     "base_uri": "https://localhost:8080/"
    },
    "id": "ZsB90gJgBr3a",
    "outputId": "6f7dd6da-2bb1-4040-938c-298a43c4aa1a"
   },
   "outputs": [
    {
     "name": "stdout",
     "output_type": "stream",
     "text": [
      "Accuracy: 0.43434343434343436\n"
     ]
    }
   ],
   "source": [
    "from sklearn import metrics\n",
    "\n",
    "print(\"Accuracy:\",metrics.accuracy_score(test_labels, y_pred))"
   ]
  },
  {
   "cell_type": "code",
   "execution_count": 19,
   "metadata": {
    "colab": {
     "base_uri": "https://localhost:8080/"
    },
    "id": "4N5AdF0ZBuaF",
    "outputId": "7d79815b-80d5-4373-917a-76e36c9edcf1"
   },
   "outputs": [
    {
     "name": "stdout",
     "output_type": "stream",
     "text": [
      "                      precision    recall  f1-score   support\n",
      "\n",
      "           addressee       0.33      0.25      0.29        12\n",
      "               agent       0.59      0.64      0.62       197\n",
      "              aspect       0.00      0.00      0.00         9\n",
      "         benefactive       0.21      0.17      0.19        23\n",
      "             content       0.12      0.08      0.10        13\n",
      "        counterparty       0.00      0.00      0.00         3\n",
      "            effector       0.00      0.00      0.00         0\n",
      "            endpoint       0.00      0.00      0.00         4\n",
      "         experiencer       0.00      0.00      0.00        12\n",
      "                goal       0.41      0.48      0.44        29\n",
      "               means       0.00      0.00      0.00         4\n",
      "          motivation       0.00      0.00      0.00         9\n",
      "                nomn       0.00      0.00      0.00         0\n",
      "             patient       0.48      0.45      0.46       181\n",
      "               place       0.00      0.00      0.00        18\n",
      "            posessor       0.43      0.62      0.51        77\n",
      "           recipient       0.25      0.33      0.29        12\n",
      "              result       0.00      0.00      0.00         5\n",
      "       second_member       0.30      0.14      0.19        22\n",
      "      starting_point       0.27      0.25      0.26        12\n",
      "            stimulus       0.17      0.08      0.11        12\n",
      "subj_with_properties       0.34      0.39      0.37        89\n",
      "                term       0.60      0.50      0.55        18\n",
      "               thema       0.00      0.00      0.00         1\n",
      "               theme       0.31      0.33      0.32        89\n",
      "                time       0.65      0.62      0.63        39\n",
      "          trajectory       0.00      0.00      0.00         1\n",
      "\n",
      "            accuracy                           0.43       891\n",
      "           macro avg       0.20      0.20      0.20       891\n",
      "        weighted avg       0.41      0.43      0.42       891\n",
      "\n"
     ]
    },
    {
     "name": "stderr",
     "output_type": "stream",
     "text": [
      "/Users/ciwwwnd/opt/anaconda3/lib/python3.8/site-packages/sklearn/metrics/_classification.py:1221: UndefinedMetricWarning: Precision and F-score are ill-defined and being set to 0.0 in labels with no predicted samples. Use `zero_division` parameter to control this behavior.\n",
      "  _warn_prf(average, modifier, msg_start, len(result))\n",
      "/Users/ciwwwnd/opt/anaconda3/lib/python3.8/site-packages/sklearn/metrics/_classification.py:1221: UndefinedMetricWarning: Recall and F-score are ill-defined and being set to 0.0 in labels with no true samples. Use `zero_division` parameter to control this behavior.\n",
      "  _warn_prf(average, modifier, msg_start, len(result))\n"
     ]
    }
   ],
   "source": [
    "print(metrics.classification_report(test_labels, y_pred))"
   ]
  },
  {
   "cell_type": "code",
   "execution_count": null,
   "metadata": {},
   "outputs": [],
   "source": []
  },
  {
   "cell_type": "code",
   "execution_count": 22,
   "metadata": {},
   "outputs": [
    {
     "name": "stdout",
     "output_type": "stream",
     "text": [
      "[INFO] Clases\n",
      "['addressee', 'agent', 'aspect', 'benefactive', 'content', 'counterparty', 'effector', 'endpoint', 'experiencer', 'goal', 'means', 'motivation', 'nomn', 'patient', 'place', 'posessor', 'recipient', 'result', 'second_member', 'starting_point', 'stimulus', 'subj_with_properties', 'term', 'thema', 'theme', 'time', 'trajectory']\n",
      "{'addressee': {'addressee': 3, 'agent': 0, 'aspect': 0, 'benefactive': 0, 'content': 0, 'counterparty': 0, 'effector': 0, 'endpoint': 0, 'experiencer': 0, 'goal': 1, 'means': 0, 'motivation': 0, 'nomn': 0, 'patient': 0, 'place': 0, 'posessor': 2, 'recipient': 4, 'result': 0, 'second_member': 0, 'starting_point': 0, 'stimulus': 0, 'subj_with_properties': 0, 'term': 0, 'thema': 0, 'theme': 2, 'time': 0, 'trajectory': 0}, 'agent': {'addressee': 1, 'agent': 127, 'aspect': 0, 'benefactive': 2, 'content': 1, 'counterparty': 0, 'effector': 1, 'endpoint': 0, 'experiencer': 1, 'goal': 0, 'means': 0, 'motivation': 0, 'nomn': 0, 'patient': 36, 'place': 0, 'posessor': 6, 'recipient': 2, 'result': 0, 'second_member': 2, 'starting_point': 0, 'stimulus': 0, 'subj_with_properties': 14, 'term': 0, 'thema': 0, 'theme': 4, 'time': 0, 'trajectory': 0}, 'aspect': {'addressee': 0, 'agent': 1, 'aspect': 0, 'benefactive': 0, 'content': 0, 'counterparty': 0, 'effector': 0, 'endpoint': 2, 'experiencer': 0, 'goal': 3, 'means': 0, 'motivation': 0, 'nomn': 0, 'patient': 2, 'place': 0, 'posessor': 0, 'recipient': 0, 'result': 0, 'second_member': 0, 'starting_point': 0, 'stimulus': 0, 'subj_with_properties': 0, 'term': 0, 'thema': 0, 'theme': 0, 'time': 1, 'trajectory': 0}, 'benefactive': {'addressee': 1, 'agent': 2, 'aspect': 1, 'benefactive': 4, 'content': 0, 'counterparty': 1, 'effector': 0, 'endpoint': 0, 'experiencer': 0, 'goal': 0, 'means': 0, 'motivation': 0, 'nomn': 0, 'patient': 2, 'place': 1, 'posessor': 4, 'recipient': 6, 'result': 0, 'second_member': 0, 'starting_point': 0, 'stimulus': 0, 'subj_with_properties': 0, 'term': 0, 'thema': 0, 'theme': 1, 'time': 0, 'trajectory': 0}, 'content': {'addressee': 0, 'agent': 0, 'aspect': 1, 'benefactive': 0, 'content': 1, 'counterparty': 0, 'effector': 0, 'endpoint': 1, 'experiencer': 0, 'goal': 0, 'means': 0, 'motivation': 0, 'nomn': 0, 'patient': 1, 'place': 0, 'posessor': 1, 'recipient': 0, 'result': 0, 'second_member': 0, 'starting_point': 1, 'stimulus': 1, 'subj_with_properties': 3, 'term': 1, 'thema': 0, 'theme': 2, 'time': 0, 'trajectory': 0}, 'counterparty': {'addressee': 0, 'agent': 0, 'aspect': 0, 'benefactive': 0, 'content': 0, 'counterparty': 0, 'effector': 0, 'endpoint': 0, 'experiencer': 0, 'goal': 0, 'means': 0, 'motivation': 0, 'nomn': 0, 'patient': 1, 'place': 0, 'posessor': 2, 'recipient': 0, 'result': 0, 'second_member': 0, 'starting_point': 0, 'stimulus': 0, 'subj_with_properties': 0, 'term': 0, 'thema': 0, 'theme': 0, 'time': 0, 'trajectory': 0}, 'effector': {'addressee': 0, 'agent': 0, 'aspect': 0, 'benefactive': 0, 'content': 0, 'counterparty': 0, 'effector': 0, 'endpoint': 0, 'experiencer': 0, 'goal': 0, 'means': 0, 'motivation': 0, 'nomn': 0, 'patient': 0, 'place': 0, 'posessor': 0, 'recipient': 0, 'result': 0, 'second_member': 0, 'starting_point': 0, 'stimulus': 0, 'subj_with_properties': 0, 'term': 0, 'thema': 0, 'theme': 0, 'time': 0, 'trajectory': 0}, 'endpoint': {'addressee': 0, 'agent': 0, 'aspect': 0, 'benefactive': 0, 'content': 0, 'counterparty': 0, 'effector': 0, 'endpoint': 0, 'experiencer': 0, 'goal': 0, 'means': 0, 'motivation': 0, 'nomn': 0, 'patient': 0, 'place': 1, 'posessor': 1, 'recipient': 0, 'result': 0, 'second_member': 0, 'starting_point': 0, 'stimulus': 0, 'subj_with_properties': 0, 'term': 0, 'thema': 0, 'theme': 1, 'time': 1, 'trajectory': 0}, 'experiencer': {'addressee': 0, 'agent': 8, 'aspect': 0, 'benefactive': 0, 'content': 1, 'counterparty': 0, 'effector': 0, 'endpoint': 0, 'experiencer': 0, 'goal': 0, 'means': 0, 'motivation': 0, 'nomn': 0, 'patient': 0, 'place': 0, 'posessor': 1, 'recipient': 0, 'result': 0, 'second_member': 0, 'starting_point': 0, 'stimulus': 1, 'subj_with_properties': 0, 'term': 0, 'thema': 0, 'theme': 1, 'time': 0, 'trajectory': 0}, 'goal': {'addressee': 0, 'agent': 0, 'aspect': 1, 'benefactive': 1, 'content': 0, 'counterparty': 0, 'effector': 0, 'endpoint': 0, 'experiencer': 0, 'goal': 14, 'means': 0, 'motivation': 0, 'nomn': 0, 'patient': 2, 'place': 0, 'posessor': 2, 'recipient': 0, 'result': 0, 'second_member': 0, 'starting_point': 1, 'stimulus': 1, 'subj_with_properties': 0, 'term': 0, 'thema': 0, 'theme': 5, 'time': 2, 'trajectory': 0}, 'means': {'addressee': 0, 'agent': 1, 'aspect': 0, 'benefactive': 0, 'content': 0, 'counterparty': 0, 'effector': 0, 'endpoint': 0, 'experiencer': 0, 'goal': 1, 'means': 0, 'motivation': 0, 'nomn': 0, 'patient': 0, 'place': 0, 'posessor': 0, 'recipient': 0, 'result': 0, 'second_member': 0, 'starting_point': 0, 'stimulus': 0, 'subj_with_properties': 1, 'term': 0, 'thema': 0, 'theme': 1, 'time': 0, 'trajectory': 0}, 'motivation': {'addressee': 1, 'agent': 0, 'aspect': 0, 'benefactive': 1, 'content': 0, 'counterparty': 0, 'effector': 0, 'endpoint': 1, 'experiencer': 0, 'goal': 1, 'means': 0, 'motivation': 0, 'nomn': 0, 'patient': 1, 'place': 0, 'posessor': 0, 'recipient': 0, 'result': 0, 'second_member': 0, 'starting_point': 0, 'stimulus': 1, 'subj_with_properties': 1, 'term': 0, 'thema': 0, 'theme': 2, 'time': 0, 'trajectory': 0}, 'nomn': {'addressee': 0, 'agent': 0, 'aspect': 0, 'benefactive': 0, 'content': 0, 'counterparty': 0, 'effector': 0, 'endpoint': 0, 'experiencer': 0, 'goal': 0, 'means': 0, 'motivation': 0, 'nomn': 0, 'patient': 0, 'place': 0, 'posessor': 0, 'recipient': 0, 'result': 0, 'second_member': 0, 'starting_point': 0, 'stimulus': 0, 'subj_with_properties': 0, 'term': 0, 'thema': 0, 'theme': 0, 'time': 0, 'trajectory': 0}, 'patient': {'addressee': 1, 'agent': 38, 'aspect': 0, 'benefactive': 4, 'content': 2, 'counterparty': 0, 'effector': 2, 'endpoint': 0, 'experiencer': 1, 'goal': 2, 'means': 1, 'motivation': 1, 'nomn': 2, 'patient': 82, 'place': 0, 'posessor': 7, 'recipient': 0, 'result': 0, 'second_member': 1, 'starting_point': 1, 'stimulus': 0, 'subj_with_properties': 25, 'term': 0, 'thema': 0, 'theme': 8, 'time': 3, 'trajectory': 0}, 'place': {'addressee': 0, 'agent': 0, 'aspect': 0, 'benefactive': 2, 'content': 0, 'counterparty': 0, 'effector': 0, 'endpoint': 3, 'experiencer': 0, 'goal': 1, 'means': 0, 'motivation': 0, 'nomn': 0, 'patient': 1, 'place': 0, 'posessor': 5, 'recipient': 0, 'result': 0, 'second_member': 0, 'starting_point': 3, 'stimulus': 0, 'subj_with_properties': 0, 'term': 0, 'thema': 0, 'theme': 3, 'time': 0, 'trajectory': 0}, 'posessor': {'addressee': 0, 'agent': 0, 'aspect': 0, 'benefactive': 1, 'content': 1, 'counterparty': 0, 'effector': 0, 'endpoint': 0, 'experiencer': 0, 'goal': 0, 'means': 0, 'motivation': 0, 'nomn': 0, 'patient': 2, 'place': 1, 'posessor': 48, 'recipient': 0, 'result': 0, 'second_member': 0, 'starting_point': 0, 'stimulus': 0, 'subj_with_properties': 0, 'term': 1, 'thema': 0, 'theme': 21, 'time': 2, 'trajectory': 0}, 'recipient': {'addressee': 2, 'agent': 0, 'aspect': 0, 'benefactive': 1, 'content': 0, 'counterparty': 0, 'effector': 0, 'endpoint': 0, 'experiencer': 0, 'goal': 0, 'means': 0, 'motivation': 0, 'nomn': 0, 'patient': 2, 'place': 1, 'posessor': 0, 'recipient': 4, 'result': 0, 'second_member': 0, 'starting_point': 0, 'stimulus': 0, 'subj_with_properties': 0, 'term': 0, 'thema': 0, 'theme': 2, 'time': 0, 'trajectory': 0}, 'result': {'addressee': 0, 'agent': 0, 'aspect': 1, 'benefactive': 0, 'content': 0, 'counterparty': 0, 'effector': 0, 'endpoint': 0, 'experiencer': 0, 'goal': 0, 'means': 0, 'motivation': 0, 'nomn': 0, 'patient': 1, 'place': 0, 'posessor': 0, 'recipient': 0, 'result': 0, 'second_member': 0, 'starting_point': 0, 'stimulus': 1, 'subj_with_properties': 2, 'term': 0, 'thema': 0, 'theme': 0, 'time': 0, 'trajectory': 0}, 'second_member': {'addressee': 0, 'agent': 2, 'aspect': 0, 'benefactive': 2, 'content': 0, 'counterparty': 0, 'effector': 0, 'endpoint': 0, 'experiencer': 0, 'goal': 2, 'means': 0, 'motivation': 0, 'nomn': 0, 'patient': 4, 'place': 0, 'posessor': 6, 'recipient': 0, 'result': 0, 'second_member': 3, 'starting_point': 0, 'stimulus': 0, 'subj_with_properties': 2, 'term': 0, 'thema': 0, 'theme': 1, 'time': 0, 'trajectory': 0}, 'starting_point': {'addressee': 0, 'agent': 0, 'aspect': 0, 'benefactive': 0, 'content': 0, 'counterparty': 0, 'effector': 0, 'endpoint': 0, 'experiencer': 0, 'goal': 1, 'means': 0, 'motivation': 0, 'nomn': 0, 'patient': 2, 'place': 2, 'posessor': 1, 'recipient': 0, 'result': 0, 'second_member': 1, 'starting_point': 3, 'stimulus': 0, 'subj_with_properties': 0, 'term': 1, 'thema': 0, 'theme': 0, 'time': 1, 'trajectory': 0}, 'stimulus': {'addressee': 0, 'agent': 2, 'aspect': 0, 'benefactive': 1, 'content': 0, 'counterparty': 0, 'effector': 0, 'endpoint': 0, 'experiencer': 0, 'goal': 2, 'means': 0, 'motivation': 0, 'nomn': 0, 'patient': 2, 'place': 0, 'posessor': 0, 'recipient': 0, 'result': 0, 'second_member': 0, 'starting_point': 1, 'stimulus': 1, 'subj_with_properties': 3, 'term': 0, 'thema': 0, 'theme': 0, 'time': 0, 'trajectory': 0}, 'subj_with_properties': {'addressee': 0, 'agent': 28, 'aspect': 0, 'benefactive': 0, 'content': 1, 'counterparty': 0, 'effector': 0, 'endpoint': 0, 'experiencer': 1, 'goal': 2, 'means': 0, 'motivation': 0, 'nomn': 0, 'patient': 14, 'place': 0, 'posessor': 1, 'recipient': 0, 'result': 1, 'second_member': 1, 'starting_point': 0, 'stimulus': 0, 'subj_with_properties': 35, 'term': 0, 'thema': 0, 'theme': 5, 'time': 0, 'trajectory': 0}, 'term': {'addressee': 0, 'agent': 0, 'aspect': 0, 'benefactive': 0, 'content': 0, 'counterparty': 0, 'effector': 0, 'endpoint': 0, 'experiencer': 0, 'goal': 1, 'means': 0, 'motivation': 0, 'nomn': 0, 'patient': 2, 'place': 0, 'posessor': 1, 'recipient': 0, 'result': 0, 'second_member': 0, 'starting_point': 0, 'stimulus': 0, 'subj_with_properties': 1, 'term': 9, 'thema': 0, 'theme': 2, 'time': 2, 'trajectory': 0}, 'thema': {'addressee': 0, 'agent': 0, 'aspect': 0, 'benefactive': 0, 'content': 0, 'counterparty': 0, 'effector': 0, 'endpoint': 0, 'experiencer': 0, 'goal': 0, 'means': 0, 'motivation': 0, 'nomn': 0, 'patient': 1, 'place': 0, 'posessor': 0, 'recipient': 0, 'result': 0, 'second_member': 0, 'starting_point': 0, 'stimulus': 0, 'subj_with_properties': 0, 'term': 0, 'thema': 0, 'theme': 0, 'time': 0, 'trajectory': 0}, 'theme': {'addressee': 0, 'agent': 5, 'aspect': 0, 'benefactive': 0, 'content': 1, 'counterparty': 0, 'effector': 0, 'endpoint': 0, 'experiencer': 0, 'goal': 3, 'means': 0, 'motivation': 0, 'nomn': 0, 'patient': 13, 'place': 2, 'posessor': 19, 'recipient': 0, 'result': 0, 'second_member': 2, 'starting_point': 0, 'stimulus': 0, 'subj_with_properties': 14, 'term': 1, 'thema': 0, 'theme': 29, 'time': 0, 'trajectory': 0}, 'time': {'addressee': 0, 'agent': 1, 'aspect': 0, 'benefactive': 0, 'content': 0, 'counterparty': 0, 'effector': 0, 'endpoint': 0, 'experiencer': 0, 'goal': 0, 'means': 1, 'motivation': 0, 'nomn': 0, 'patient': 1, 'place': 0, 'posessor': 4, 'recipient': 0, 'result': 0, 'second_member': 0, 'starting_point': 1, 'stimulus': 0, 'subj_with_properties': 1, 'term': 2, 'thema': 0, 'theme': 4, 'time': 24, 'trajectory': 0}, 'trajectory': {'addressee': 0, 'agent': 0, 'aspect': 0, 'benefactive': 0, 'content': 0, 'counterparty': 0, 'effector': 0, 'endpoint': 0, 'experiencer': 0, 'goal': 0, 'means': 0, 'motivation': 0, 'nomn': 0, 'patient': 0, 'place': 0, 'posessor': 0, 'recipient': 0, 'result': 0, 'second_member': 0, 'starting_point': 0, 'stimulus': 0, 'subj_with_properties': 0, 'term': 0, 'thema': 0, 'theme': 0, 'time': 1, 'trajectory': 0}}\n",
      "Predict                    addressee                  agent                      aspect                     benefactive                content                    counterparty               effector                   endpoint                   experiencer                goal                       means                      motivation                 nomn                       patient                    place                      posessor                   recipient                  result                     second_member              starting_point             stimulus                   subj_with_properties       term                       thema                      theme                      time                       trajectory                 \n",
      "Actual\n",
      "addressee                  3                          0                          0                          0                          0                          0                          0                          0                          0                          1                          0                          0                          0                          0                          0                          2                          4                          0                          0                          0                          0                          0                          0                          0                          2                          0                          0                          \n",
      "\n",
      "agent                      1                          127                        0                          2                          1                          0                          1                          0                          1                          0                          0                          0                          0                          36                         0                          6                          2                          0                          2                          0                          0                          14                         0                          0                          4                          0                          0                          \n",
      "\n",
      "aspect                     0                          1                          0                          0                          0                          0                          0                          2                          0                          3                          0                          0                          0                          2                          0                          0                          0                          0                          0                          0                          0                          0                          0                          0                          0                          1                          0                          \n",
      "\n",
      "benefactive                1                          2                          1                          4                          0                          1                          0                          0                          0                          0                          0                          0                          0                          2                          1                          4                          6                          0                          0                          0                          0                          0                          0                          0                          1                          0                          0                          \n",
      "\n",
      "content                    0                          0                          1                          0                          1                          0                          0                          1                          0                          0                          0                          0                          0                          1                          0                          1                          0                          0                          0                          1                          1                          3                          1                          0                          2                          0                          0                          \n",
      "\n",
      "counterparty               0                          0                          0                          0                          0                          0                          0                          0                          0                          0                          0                          0                          0                          1                          0                          2                          0                          0                          0                          0                          0                          0                          0                          0                          0                          0                          0                          \n",
      "\n",
      "effector                   0                          0                          0                          0                          0                          0                          0                          0                          0                          0                          0                          0                          0                          0                          0                          0                          0                          0                          0                          0                          0                          0                          0                          0                          0                          0                          0                          \n",
      "\n",
      "endpoint                   0                          0                          0                          0                          0                          0                          0                          0                          0                          0                          0                          0                          0                          0                          1                          1                          0                          0                          0                          0                          0                          0                          0                          0                          1                          1                          0                          \n",
      "\n",
      "experiencer                0                          8                          0                          0                          1                          0                          0                          0                          0                          0                          0                          0                          0                          0                          0                          1                          0                          0                          0                          0                          1                          0                          0                          0                          1                          0                          0                          \n",
      "\n",
      "goal                       0                          0                          1                          1                          0                          0                          0                          0                          0                          14                         0                          0                          0                          2                          0                          2                          0                          0                          0                          1                          1                          0                          0                          0                          5                          2                          0                          \n",
      "\n",
      "means                      0                          1                          0                          0                          0                          0                          0                          0                          0                          1                          0                          0                          0                          0                          0                          0                          0                          0                          0                          0                          0                          1                          0                          0                          1                          0                          0                          \n",
      "\n",
      "motivation                 1                          0                          0                          1                          0                          0                          0                          1                          0                          1                          0                          0                          0                          1                          0                          0                          0                          0                          0                          0                          1                          1                          0                          0                          2                          0                          0                          \n",
      "\n",
      "nomn                       0                          0                          0                          0                          0                          0                          0                          0                          0                          0                          0                          0                          0                          0                          0                          0                          0                          0                          0                          0                          0                          0                          0                          0                          0                          0                          0                          \n",
      "\n",
      "patient                    1                          38                         0                          4                          2                          0                          2                          0                          1                          2                          1                          1                          2                          82                         0                          7                          0                          0                          1                          1                          0                          25                         0                          0                          8                          3                          0                          \n",
      "\n",
      "place                      0                          0                          0                          2                          0                          0                          0                          3                          0                          1                          0                          0                          0                          1                          0                          5                          0                          0                          0                          3                          0                          0                          0                          0                          3                          0                          0                          \n",
      "\n",
      "posessor                   0                          0                          0                          1                          1                          0                          0                          0                          0                          0                          0                          0                          0                          2                          1                          48                         0                          0                          0                          0                          0                          0                          1                          0                          21                         2                          0                          \n",
      "\n",
      "recipient                  2                          0                          0                          1                          0                          0                          0                          0                          0                          0                          0                          0                          0                          2                          1                          0                          4                          0                          0                          0                          0                          0                          0                          0                          2                          0                          0                          \n",
      "\n",
      "result                     0                          0                          1                          0                          0                          0                          0                          0                          0                          0                          0                          0                          0                          1                          0                          0                          0                          0                          0                          0                          1                          2                          0                          0                          0                          0                          0                          \n",
      "\n",
      "second_member              0                          2                          0                          2                          0                          0                          0                          0                          0                          2                          0                          0                          0                          4                          0                          6                          0                          0                          3                          0                          0                          2                          0                          0                          1                          0                          0                          \n",
      "\n",
      "starting_point             0                          0                          0                          0                          0                          0                          0                          0                          0                          1                          0                          0                          0                          2                          2                          1                          0                          0                          1                          3                          0                          0                          1                          0                          0                          1                          0                          \n",
      "\n",
      "stimulus                   0                          2                          0                          1                          0                          0                          0                          0                          0                          2                          0                          0                          0                          2                          0                          0                          0                          0                          0                          1                          1                          3                          0                          0                          0                          0                          0                          \n",
      "\n",
      "subj_with_properties       0                          28                         0                          0                          1                          0                          0                          0                          1                          2                          0                          0                          0                          14                         0                          1                          0                          1                          1                          0                          0                          35                         0                          0                          5                          0                          0                          \n",
      "\n",
      "term                       0                          0                          0                          0                          0                          0                          0                          0                          0                          1                          0                          0                          0                          2                          0                          1                          0                          0                          0                          0                          0                          1                          9                          0                          2                          2                          0                          \n",
      "\n",
      "thema                      0                          0                          0                          0                          0                          0                          0                          0                          0                          0                          0                          0                          0                          1                          0                          0                          0                          0                          0                          0                          0                          0                          0                          0                          0                          0                          0                          \n",
      "\n",
      "theme                      0                          5                          0                          0                          1                          0                          0                          0                          0                          3                          0                          0                          0                          13                         2                          19                         0                          0                          2                          0                          0                          14                         1                          0                          29                         0                          0                          \n",
      "\n",
      "time                       0                          1                          0                          0                          0                          0                          0                          0                          0                          0                          1                          0                          0                          1                          0                          4                          0                          0                          0                          1                          0                          1                          2                          0                          4                          24                         0                          \n",
      "\n",
      "trajectory                 0                          0                          0                          0                          0                          0                          0                          0                          0                          0                          0                          0                          0                          0                          0                          0                          0                          0                          0                          0                          0                          0                          0                          0                          0                          1                          0                          \n",
      "\n",
      "\n",
      "\n",
      "\n",
      "\n",
      "Overall Statistics : \n",
      "\n",
      "95% CI                                                            (0.4018,0.46689)\n",
      "ACC Macro                                                         0.9581\n",
      "ARI                                                               0.2233\n",
      "AUNP                                                              None\n",
      "AUNU                                                              None\n",
      "Bangdiwala B                                                      0.2713\n",
      "Bennett S                                                         0.41259\n",
      "CBA                                                               0.18057\n",
      "CSI                                                               None\n",
      "Chi-Squared                                                       None\n",
      "Chi-Squared DF                                                    676\n",
      "Conditional Entropy                                               2.21187\n",
      "Cramer V                                                          None\n",
      "Cross Entropy                                                     3.64198\n",
      "F1 Macro                                                          0.19679\n",
      "F1 Micro                                                          0.43434\n",
      "FNR Macro                                                         None\n",
      "FNR Micro                                                         0.56566\n",
      "FPR Macro                                                         0.02392\n",
      "FPR Micro                                                         0.02176\n",
      "Gwet AC1                                                          0.41479\n",
      "Hamming Loss                                                      0.56566\n",
      "Joint Entropy                                                     5.78653\n",
      "KL Divergence                                                     None\n",
      "Kappa                                                             0.34934\n",
      "Kappa 95% CI                                                      (0.31191,0.38678)\n",
      "Kappa No Prevalence                                               -0.13131\n",
      "Kappa Standard Error                                              0.0191\n",
      "Kappa Unbiased                                                    0.34879\n",
      "Krippendorff Alpha                                                0.34915\n",
      "Lambda A                                                          0.29971\n",
      "Lambda B                                                          0.30769\n",
      "Mutual Information                                                1.11425\n",
      "NIR                                                               0.2211\n",
      "Overall ACC                                                       0.43434\n",
      "Overall CEN                                                       0.42527\n",
      "Overall J                                                         (3.42685,0.12692)\n",
      "Overall MCC                                                       0.34996\n",
      "Overall MCEN                                                      0.50312\n",
      "Overall RACC                                                      0.13064\n",
      "Overall RACCU                                                     0.13138\n",
      "P-Value                                                           0.0\n",
      "PPV Macro                                                         None\n",
      "PPV Micro                                                         0.43434\n",
      "Pearson C                                                         None\n",
      "Phi-Squared                                                       None\n",
      "RCI                                                               0.31171\n",
      "RR                                                                33.0\n",
      "Reference Entropy                                                 3.57465\n",
      "Response Entropy                                                  3.32612\n",
      "SOA1(Landis & Koch)                                               Fair\n",
      "SOA2(Fleiss)                                                      Poor\n",
      "SOA3(Altman)                                                      Fair\n",
      "SOA4(Cicchetti)                                                   Poor\n",
      "SOA5(Cramer)                                                      None\n",
      "SOA6(Matthews)                                                    Weak\n",
      "Scott PI                                                          0.34879\n",
      "Standard Error                                                    0.01661\n",
      "TNR Macro                                                         0.97608\n",
      "TNR Micro                                                         0.97824\n",
      "TPR Macro                                                         None\n",
      "TPR Micro                                                         0.43434\n",
      "Zero-one Loss                                                     504\n",
      "\n",
      "Class Statistics :\n",
      "\n",
      "Classes                                                           addressee                agent                    aspect                   benefactive              content                  counterparty             effector                 endpoint                 experiencer              goal                     means                    motivation               nomn                     patient                  place                    posessor                 recipient                result                   second_member            starting_point           stimulus                 subj_with_properties     term                     thema                    theme                    time                     trajectory               \n",
      "ACC(Accuracy)                                                     0.98316                  0.82267                  0.98541                  0.96184                  0.97868                  0.99551                  0.99663                  0.98765                  0.98316                  0.96072                  0.99327                  0.98878                  0.99776                  0.78788                  0.97082                  0.89675                  0.97755                  0.99327                  0.97082                  0.98092                  0.98204                  0.8642                   0.98316                  0.99888                  0.85971                  0.96857                  0.99888                  \n",
      "AGF(Adjusted F-score)                                             0.51054                  0.75136                  0.0                      0.42002                  0.28687                  0.0                      0.0                      0.0                      0.0                      0.67673                  0.0                      0.0                      0.0                      0.62895                  0.0                      0.73941                  0.5562                   0.0                      0.38752                  0.50169                  0.3026                   0.59563                  0.71574                  0.0                      0.54552                  0.78175                  0.0                      \n",
      "AGM(Adjusted geometric mean)                                      0.74405                  0.8041                   0                        0.69434                  0.6315                   0                        None                     0                        0                        0.82935                  0                        0                        None                     0.7373                   0                        0.83678                  0.77847                  0                        0.67596                  0.74264                  0.63869                  0.75009                  0.84743                  0                        0.72331                  0.87929                  0                        \n",
      "AM(Difference between automatic and manual classification)        -3                       18                       -5                       -4                       -5                       -2                       3                        3                        -9                       5                        -2                       -8                       2                        -9                       -10                      34                       4                        -4                       -12                      -1                       -6                       13                       -3                       -1                       5                        -2                       -1                       \n",
      "AUC(Area under the ROC curve)                                     0.62159                  0.75893                  0.49773                  0.57832                  0.53448                  0.49944                  None                     0.49605                  0.49829                  0.72978                  0.49887                  0.49943                  None                     0.66314                  0.49542                  0.77299                  0.65984                  0.49944                  0.56415                  0.62045                  0.53882                  0.65486                  0.74656                  0.5                      0.6224                   0.80006                  0.5                      \n",
      "AUCI(AUC value interpretation)                                    Fair                     Good                     Poor                     Poor                     Poor                     Poor                     None                     Poor                     Poor                     Good                     Poor                     Poor                     None                     Fair                     Poor                     Good                     Fair                     Poor                     Poor                     Fair                     Poor                     Fair                     Good                     Poor                     Fair                     Very Good                Poor                     \n",
      "AUPR(Area under the PR curve)                                     0.29167                  0.61768                  0.0                      0.19222                  0.10096                  0.0                      None                     0.0                      0.0                      0.44726                  0.0                      0.0                      None                     0.46489                  0.0                      0.5279                   0.29167                  0.0                      0.21818                  0.26136                  0.125                    0.3682                   0.55                     None                     0.31718                  0.63202                  None                     \n",
      "BCD(Bray-Curtis dissimilarity)                                    0.00168                  0.0101                   0.00281                  0.00224                  0.00281                  0.00112                  0.00168                  0.00168                  0.00505                  0.00281                  0.00112                  0.00449                  0.00112                  0.00505                  0.00561                  0.01908                  0.00224                  0.00224                  0.00673                  0.00056                  0.00337                  0.0073                   0.00168                  0.00056                  0.00281                  0.00112                  0.00056                  \n",
      "BM(Informedness or bookmaker informedness)                        0.24317                  0.51787                  -0.00454                 0.15663                  0.06895                  -0.00113                 None                     -0.00789                 -0.00341                 0.45956                  -0.00225                 -0.00113                 None                     0.32628                  -0.00916                 0.54598                  0.31968                  -0.00113                 0.12831                  0.2409                   0.07765                  0.30972                  0.49313                  0.0                      0.2448                   0.60013                  0.0                      \n",
      "CEN(Confusion entropy)                                            0.43342                  0.30993                  0.53101                  0.59239                  0.624                    0.26314                  0.16109                  0.49915                  0.40469                  0.48475                  0.45347                  0.54766                  0.0                      0.45131                  0.60952                  0.40478                  0.40496                  0.39499                  0.518                    0.51976                  0.54542                  0.44007                  0.35971                  0.0                      0.54331                  0.33743                  0.0                      \n",
      "DOR(Diagnostic odds ratio)                                        48.5                     12.49383                 0.0                      11.97193                 10.36905                 0.0                      None                     0.0                      0.0                      39.29333                 0.0                      0.0                      None                     5.70595                  0.0                      19.73071                 36.125                   0.0                      19.44361                 36.29167                 15.89091                 7.11028                  144.5                    None                     5.48026                  103.26154                None                     \n",
      "DP(Discriminant power)                                            0.9294                   0.60464                  None                     0.59442                  0.56001                  None                     None                     None                     None                     0.87899                  None                     None                     None                     0.41699                  None                     0.71405                  0.85886                  None                     0.71054                  0.85997                  0.66223                  0.46967                  1.1908                   None                     0.40732                  1.11034                  None                     \n",
      "DPI(Discriminant power interpretation)                            Poor                     Poor                     None                     Poor                     Poor                     None                     None                     None                     None                     Poor                     None                     None                     None                     Poor                     None                     Poor                     Poor                     None                     Poor                     Poor                     Poor                     Poor                     Limited                  None                     Poor                     Limited                  None                     \n",
      "ERR(Error rate)                                                   0.01684                  0.17733                  0.01459                  0.03816                  0.02132                  0.00449                  0.00337                  0.01235                  0.01684                  0.03928                  0.00673                  0.01122                  0.00224                  0.21212                  0.02918                  0.10325                  0.02245                  0.00673                  0.02918                  0.01908                  0.01796                  0.1358                   0.01684                  0.00112                  0.14029                  0.03143                  0.00112                  \n",
      "F0.5(F0.5 score)                                                  0.3125                   0.60076                  0.0                      0.20202                  0.11111                  0.0                      0.0                      0.0                      0.0                      0.42424                  0.0                      0.0                      0.0                      0.47181                  0.0                      0.46065                  0.26316                  0.0                      0.24194                  0.26786                  0.13889                  0.35211                  0.57692                  0.0                      0.31183                  0.64171                  0.0                      \n",
      "F1(F1 score - harmonic mean of precision and sensitivity)         0.28571                  0.6165                   0.0                      0.19048                  0.09524                  0.0                      0.0                      0.0                      0.0                      0.44444                  0.0                      0.0                      0.0                      0.46459                  0.0                      0.51064                  0.28571                  0.0                      0.1875                   0.26087                  0.11111                  0.36649                  0.54545                  0.0                      0.31694                  0.63158                  0.0                      \n",
      "F2(F2 score)                                                      0.26316                  0.6331                   0.0                      0.18018                  0.08333                  0.0                      0.0                      0.0                      0.0                      0.46667                  0.0                      0.0                      0.0                      0.45759                  0.0                      0.57279                  0.3125                   0.0                      0.15306                  0.25424                  0.09259                  0.3821                   0.51724                  0.0                      0.32222                  0.62176                  0.0                      \n",
      "FDR(False discovery rate)                                         0.66667                  0.4093                   1.0                      0.78947                  0.875                    1.0                      1.0                      1.0                      1.0                      0.58824                  1.0                      1.0                      1.0                      0.52326                  1.0                      0.56757                  0.75                     1.0                      0.7                      0.72727                  0.83333                  0.65686                  0.4                      None                     0.69149                  0.35135                  None                     \n",
      "FN(False negative/miss/type 2 error)                              9                        70                       9                        19                       12                       3                        0                        4                        12                       15                       4                        9                        0                        99                       18                       29                       8                        5                        19                       9                        11                       54                       9                        1                        60                       15                       1                        \n",
      "FNR(Miss rate or false negative rate)                             0.75                     0.35533                  1.0                      0.82609                  0.92308                  1.0                      None                     1.0                      1.0                      0.51724                  1.0                      1.0                      None                     0.54696                  1.0                      0.37662                  0.66667                  1.0                      0.86364                  0.75                     0.91667                  0.60674                  0.5                      1.0                      0.67416                  0.38462                  1.0                      \n",
      "FOR(False omission rate)                                          0.0102                   0.10355                  0.01015                  0.02179                  0.01359                  0.00337                  0.0                      0.00452                  0.01351                  0.0175                   0.0045                   0.01011                  0.0                      0.13769                  0.02039                  0.03718                  0.00914                  0.00562                  0.02157                  0.01023                  0.01243                  0.06844                  0.01027                  0.00112                  0.07528                  0.01756                  0.00112                  \n",
      "FP(False positive/type 1 error/false alarm)                       6                        88                       4                        15                       7                        1                        3                        7                        3                        20                       2                        1                        2                        90                       8                        63                       12                       1                        7                        8                        5                        67                       6                        0                        65                       13                       0                        \n",
      "FPR(Fall-out or false positive rate)                              0.00683                  0.1268                   0.00454                  0.01728                  0.00797                  0.00113                  0.00337                  0.00789                  0.00341                  0.0232                   0.00225                  0.00113                  0.00224                  0.12676                  0.00916                  0.0774                   0.01365                  0.00113                  0.00806                  0.0091                   0.00569                  0.08354                  0.00687                  0.0                      0.08105                  0.01526                  0.0                      \n",
      "G(G-measure geometric mean of precision and sensitivity)          0.28868                  0.61709                  0.0                      0.19135                  0.09806                  0.0                      None                     0.0                      0.0                      0.44585                  0.0                      0.0                      None                     0.46474                  0.0                      0.5192                   0.28868                  0.0                      0.20226                  0.26112                  0.11785                  0.36734                  0.54772                  None                     0.31706                  0.6318                   None                     \n",
      "GI(Gini index)                                                    0.24317                  0.51787                  -0.00454                 0.15663                  0.06895                  -0.00113                 None                     -0.00789                 -0.00341                 0.45956                  -0.00225                 -0.00113                 None                     0.32628                  -0.00916                 0.54598                  0.31968                  -0.00113                 0.12831                  0.2409                   0.07765                  0.30972                  0.49313                  0.0                      0.2448                   0.60013                  0.0                      \n",
      "GM(G-mean geometric mean of specificity and sensitivity)          0.49829                  0.75028                  0.0                      0.41341                  0.27624                  0.0                      None                     0.0                      0.0                      0.6867                   0.0                      0.0                      None                     0.62898                  0.0                      0.75837                  0.5734                   0.0                      0.36778                  0.49772                  0.28785                  0.60034                  0.70467                  0.0                      0.54721                  0.77846                  0.0                      \n",
      "IBA(Index of balanced accuracy)                                   0.06377                  0.43428                  0.0                      0.03268                  0.00648                  0.0                      None                     0.0                      0.0                      0.23859                  0.0                      0.0                      None                     0.22938                  0.0                      0.40304                  0.11408                  0.0                      0.01953                  0.06419                  0.00738                  0.17184                  0.25169                  0.0                      0.12184                  0.38217                  0.0                      \n",
      "ICSI(Individual classification success index)                     -0.41667                 0.23537                  -1.0                     -0.61556                 -0.79808                 -1.0                     None                     -1.0                     -1.0                     -0.10548                 -1.0                     -1.0                     None                     -0.07022                 -1.0                     0.05581                  -0.41667                 -1.0                     -0.56364                 -0.47727                 -0.75                    -0.2636                  0.1                      None                     -0.36565                 0.26403                  None                     \n",
      "IS(Information score)                                             4.62936                  1.41772                  None                     3.02779                  3.09884                  None                     None                     None                     None                     3.66119                  None                     None                     None                     1.23072                  None                     2.32304                  4.21432                  None                     3.60288                  4.33985                  3.62936                  1.78041                  4.89239                  None                     1.62694                  3.88939                  None                     \n",
      "J(Jaccard index)                                                  0.16667                  0.44561                  0.0                      0.10526                  0.05                     0.0                      0.0                      0.0                      0.0                      0.28571                  0.0                      0.0                      0.0                      0.30258                  0.0                      0.34286                  0.16667                  0.0                      0.10345                  0.15                     0.05882                  0.22436                  0.375                    0.0                      0.18831                  0.46154                  0.0                      \n",
      "LS(Lift score)                                                    24.75                    2.67163                  0.0                      8.15561                  8.56731                  0.0                      None                     0.0                      0.0                      12.65112                 0.0                      0.0                      None                     2.34685                  0.0                      5.00386                  18.5625                  0.0                      12.15                    20.25                    12.375                   3.43523                  29.7                     None                     3.08857                  14.81913                 None                     \n",
      "MCC(Matthews correlation coefficient)                             0.28032                  0.50227                  -0.00678                 0.17194                  0.08765                  -0.00195                 None                     -0.00598                 -0.00679                 0.42566                  -0.00319                 -0.00339                 None                     0.3326                   -0.01367                 0.46454                  0.27748                  -0.00252                 0.18901                  0.25147                  0.10943                  0.29168                  0.53927                  None                     0.23894                  0.61541                  None                     \n",
      "MCCI(Matthews correlation coefficient interpretation)             Negligible               Moderate                 Negligible               Negligible               Negligible               Negligible               None                     Negligible               Negligible               Weak                     Negligible               Negligible               None                     Weak                     Negligible               Weak                     Negligible               Negligible               Negligible               Negligible               Negligible               Negligible               Moderate                 None                     Negligible               Moderate                 None                     \n",
      "MCEN(Modified confusion entropy)                                  0.47315                  0.39633                  0.53101                  0.63208                  0.64347                  0.26314                  0.16109                  0.49915                  0.40469                  0.57781                  0.45347                  0.54766                  0.0                      0.54121                  0.60952                  0.49453                  0.43995                  0.39499                  0.54925                  0.56766                  0.56388                  0.49907                  0.44422                  0.0                      0.61017                  0.44146                  0.0                      \n",
      "MK(Markedness)                                                    0.32313                  0.48715                  -0.01015                 0.18874                  0.11141                  -0.00337                 0.0                      -0.00452                 -0.01351                 0.39426                  -0.0045                  -0.01011                 0.0                      0.33905                  -0.02039                 0.39525                  0.24086                  -0.00562                 0.27843                  0.2625                   0.15424                  0.2747                   0.58973                  None                     0.23323                  0.63108                  None                     \n",
      "N(Condition negative)                                             879                      694                      882                      868                      878                      888                      891                      887                      879                      862                      887                      882                      891                      710                      873                      814                      879                      886                      869                      879                      879                      802                      873                      890                      802                      852                      890                      \n",
      "NLR(Negative likelihood ratio)                                    0.75515                  0.40693                  1.00456                  0.84061                  0.9305                   1.00113                  None                     1.00795                  1.00342                  0.52953                  1.00226                  1.00114                  None                     0.62636                  1.00925                  0.40822                  0.67589                  1.00113                  0.87065                  0.75689                  0.92191                  0.66205                  0.50346                  1.0                      0.73361                  0.39057                  1.0                      \n",
      "NLRI(Negative likelihood ratio interpretation)                    Negligible               Poor                     Negligible               Negligible               Negligible               Negligible               None                     Negligible               Negligible               Negligible               Negligible               Negligible               None                     Negligible               Negligible               Poor                     Negligible               Negligible               Negligible               Negligible               Negligible               Negligible               Negligible               Negligible               Negligible               Poor                     Negligible               \n",
      "NPV(Negative predictive value)                                    0.9898                   0.89645                  0.98985                  0.97821                  0.98641                  0.99663                  1.0                      0.99548                  0.98649                  0.9825                   0.9955                   0.98989                  1.0                      0.86231                  0.97961                  0.96282                  0.99086                  0.99438                  0.97843                  0.98977                  0.98757                  0.93156                  0.98973                  0.99888                  0.92472                  0.98244                  0.99888                  \n",
      "OC(Overlap coefficient)                                           0.33333                  0.64467                  0.0                      0.21053                  0.125                    0.0                      None                     0.0                      0.0                      0.48276                  0.0                      0.0                      None                     0.47674                  0.0                      0.62338                  0.33333                  0.0                      0.3                      0.27273                  0.16667                  0.39326                  0.6                      None                     0.32584                  0.64865                  None                     \n",
      "OOC(Otsuka-Ochiai coefficient)                                    0.28868                  0.61709                  0.0                      0.19135                  0.09806                  0.0                      None                     0.0                      0.0                      0.44585                  0.0                      0.0                      None                     0.46474                  0.0                      0.5192                   0.28868                  0.0                      0.20226                  0.26112                  0.11785                  0.36734                  0.54772                  None                     0.31706                  0.6318                   None                     \n",
      "OP(Optimized precision)                                           0.38536                  0.67211                  -0.01459                 0.26256                  0.1226                   -0.00449                 None                     -0.01235                 -0.01684                 0.62223                  -0.00673                 -0.01122                 None                     0.47105                  -0.02918                 0.70319                  0.48273                  -0.00673                 0.21253                  0.38385                  0.1367                   0.46472                  0.6529                   -0.00112                 0.38324                  0.73774                  -0.00112                 \n",
      "P(Condition positive or support)                                  12                       197                      9                        23                       13                       3                        0                        4                        12                       29                       4                        9                        0                        181                      18                       77                       12                       5                        22                       12                       12                       89                       18                       1                        89                       39                       1                        \n",
      "PLR(Positive likelihood ratio)                                    36.625                   5.0841                   0.0                      10.06377                 9.64835                  0.0                      None                     0.0                      0.0                      20.8069                  0.0                      0.0                      None                     3.57397                  0.0                      8.05442                  24.41667                 0.0                      16.92857                 27.46875                 14.65                    4.70736                  72.75                    None                     4.0204                   40.33136                 None                     \n",
      "PLRI(Positive likelihood ratio interpretation)                    Good                     Fair                     Negligible               Good                     Fair                     Negligible               None                     Negligible               Negligible               Good                     Negligible               Negligible               None                     Poor                     Negligible               Fair                     Good                     Negligible               Good                     Good                     Good                     Poor                     Good                     None                     Poor                     Good                     None                     \n",
      "POP(Population)                                                   891                      891                      891                      891                      891                      891                      891                      891                      891                      891                      891                      891                      891                      891                      891                      891                      891                      891                      891                      891                      891                      891                      891                      891                      891                      891                      891                      \n",
      "PPV(Precision or positive predictive value)                       0.33333                  0.5907                   0.0                      0.21053                  0.125                    0.0                      0.0                      0.0                      0.0                      0.41176                  0.0                      0.0                      0.0                      0.47674                  0.0                      0.43243                  0.25                     0.0                      0.3                      0.27273                  0.16667                  0.34314                  0.6                      None                     0.30851                  0.64865                  None                     \n",
      "PRE(Prevalence)                                                   0.01347                  0.2211                   0.0101                   0.02581                  0.01459                  0.00337                  0.0                      0.00449                  0.01347                  0.03255                  0.00449                  0.0101                   0.0                      0.20314                  0.0202                   0.08642                  0.01347                  0.00561                  0.02469                  0.01347                  0.01347                  0.09989                  0.0202                   0.00112                  0.09989                  0.04377                  0.00112                  \n",
      "Q(Yule Q - coefficient of colligation)                            0.9596                   0.85178                  -1.0                     0.84582                  0.82408                  -1.0                     None                     -1.0                     -1.0                     0.95036                  -1.0                     -1.0                     None                     0.70176                  -1.0                     0.90352                  0.94613                  -1.0                     0.90217                  0.94637                  0.88159                  0.7534                   0.98625                  None                     0.69137                  0.98082                  None                     \n",
      "QI(Yule Q interpretation)                                         Strong                   Strong                   Negligible               Strong                   Strong                   Negligible               None                     Negligible               Negligible               Strong                   Negligible               Negligible               None                     Moderate                 Negligible               Strong                   Strong                   Negligible               Strong                   Strong                   Strong                   Strong                   Strong                   None                     Moderate                 Strong                   None                     \n",
      "RACC(Random accuracy)                                             0.00014                  0.05335                  5e-05                    0.00055                  0.00013                  0.0                      0.0                      4e-05                    5e-05                    0.00124                  1e-05                    1e-05                    0.0                      0.03921                  0.00018                  0.01077                  0.00024                  1e-05                    0.00028                  0.00017                  9e-05                    0.01143                  0.00034                  0.0                      0.01054                  0.00182                  0.0                      \n",
      "RACCU(Random accuracy unbiased)                                   0.00014                  0.05345                  5e-05                    0.00056                  0.00014                  1e-05                    0.0                      4e-05                    7e-05                    0.00125                  1e-05                    3e-05                    0.0                      0.03924                  0.00021                  0.01113                  0.00025                  1e-05                    0.00032                  0.00017                  0.0001                   0.01149                  0.00034                  0.0                      0.01055                  0.00182                  0.0                      \n",
      "TN(True negative/correct rejection)                               873                      606                      878                      853                      871                      887                      888                      880                      876                      842                      885                      881                      889                      620                      865                      751                      867                      885                      862                      871                      874                      735                      867                      890                      737                      839                      890                      \n",
      "TNR(Specificity or true negative rate)                            0.99317                  0.8732                   0.99546                  0.98272                  0.99203                  0.99887                  0.99663                  0.99211                  0.99659                  0.9768                   0.99775                  0.99887                  0.99776                  0.87324                  0.99084                  0.9226                   0.98635                  0.99887                  0.99194                  0.9909                   0.99431                  0.91646                  0.99313                  1.0                      0.91895                  0.98474                  1.0                      \n",
      "TON(Test outcome negative)                                        882                      676                      887                      872                      883                      890                      888                      884                      888                      857                      889                      890                      889                      719                      883                      780                      875                      890                      881                      880                      885                      789                      876                      891                      797                      854                      891                      \n",
      "TOP(Test outcome positive)                                        9                        215                      4                        19                       8                        1                        3                        7                        3                        34                       2                        1                        2                        172                      8                        111                      16                       1                        10                       11                       6                        102                      15                       0                        94                       37                       0                        \n",
      "TP(True positive/hit)                                             3                        127                      0                        4                        1                        0                        0                        0                        0                        14                       0                        0                        0                        82                       0                        48                       4                        0                        3                        3                        1                        35                       9                        0                        29                       24                       0                        \n",
      "TPR(Sensitivity, recall, hit rate, or true positive rate)         0.25                     0.64467                  0.0                      0.17391                  0.07692                  0.0                      None                     0.0                      0.0                      0.48276                  0.0                      0.0                      None                     0.45304                  0.0                      0.62338                  0.33333                  0.0                      0.13636                  0.25                     0.08333                  0.39326                  0.5                      0.0                      0.32584                  0.61538                  0.0                      \n",
      "Y(Youden index)                                                   0.24317                  0.51787                  -0.00454                 0.15663                  0.06895                  -0.00113                 None                     -0.00789                 -0.00341                 0.45956                  -0.00225                 -0.00113                 None                     0.32628                  -0.00916                 0.54598                  0.31968                  -0.00113                 0.12831                  0.2409                   0.07765                  0.30972                  0.49313                  0.0                      0.2448                   0.60013                  0.0                      \n",
      "dInd(Distance index)                                              0.75003                  0.37728                  1.00001                  0.82627                  0.92311                  1.0                      None                     1.00003                  1.00001                  0.51776                  1.0                      1.0                      None                     0.56146                  1.00004                  0.38449                  0.66681                  1.0                      0.86367                  0.75006                  0.91668                  0.61247                  0.50005                  1.0                      0.67901                  0.38492                  1.0                      \n",
      "sInd(Similarity index)                                            0.46965                  0.73322                  0.29289                  0.41574                  0.34726                  0.29289                  None                     0.29287                  0.29289                  0.63389                  0.29289                  0.29289                  None                     0.60299                  0.29286                  0.72812                  0.5285                   0.29289                  0.38929                  0.46963                  0.35181                  0.56692                  0.64641                  0.29289                  0.51987                  0.72782                  0.29289                  \n",
      "\n"
     ]
    },
    {
     "name": "stderr",
     "output_type": "stream",
     "text": [
      "/Users/ciwwwnd/opt/anaconda3/lib/python3.8/site-packages/pycm/pycm_obj.py:195: RuntimeWarning: The confusion matrix is a high dimension matrix and won't be demonstrated properly.\n",
      "If confusion matrix has too many zeros (sparse matrix) you can set `sparse` flag to True in printing functions otherwise by using save_csv method to save the confusion matrix in csv format you'll have better demonstration.\n",
      "  warn(CLASS_NUMBER_WARNING, RuntimeWarning)\n"
     ]
    }
   ],
   "source": [
    "clf.fit(train_features, train_labels)\n",
    "y_predicted = clf.predict(test_features)\n",
    "\n",
    "cm = ConfusionMatrix(actual_vector=test_labels, predict_vector=y_pred)\n",
    "\n",
    "print(\"[INFO] Clases\")\n",
    "print(cm.classes)\n",
    "print(cm.table)\n",
    "print(cm)"
   ]
  },
  {
   "cell_type": "code",
   "execution_count": 23,
   "metadata": {},
   "outputs": [],
   "source": [
    "from sklearn import svm\n",
    "clf = svm.SVC(kernel='linear', C=1,gamma=1)"
   ]
  },
  {
   "cell_type": "code",
   "execution_count": 24,
   "metadata": {},
   "outputs": [
    {
     "data": {
      "text/plain": [
       "{'Status': True, 'Message': '/Users/ciwwwnd/Desktop/論文/unbalanced.csv'}"
      ]
     },
     "execution_count": 24,
     "metadata": {},
     "output_type": "execute_result"
    }
   ],
   "source": [
    "cm.save_csv(os.path.join(\"/Users/ciwwwnd/Desktop/論文\",\"unbalanced\"))"
   ]
  },
  {
   "cell_type": "markdown",
   "metadata": {
    "id": "mZW45SiZImeP"
   },
   "source": [
    "# Random Forest with a balanced dataset"
   ]
  },
  {
   "cell_type": "markdown",
   "metadata": {},
   "source": [
    "## Deleting data that is not enough"
   ]
  },
  {
   "cell_type": "code",
   "execution_count": 22,
   "metadata": {
    "colab": {
     "base_uri": "https://localhost:8080/"
    },
    "id": "TrZAFZtsCG-U",
    "outputId": "6f65b177-b10a-4ebf-85d7-a5ef0491c19a"
   },
   "outputs": [
    {
     "data": {
      "text/plain": [
       "agent                   784\n",
       "patient                 683\n",
       "subj_with_properties    374\n",
       "theme                   368\n",
       "posessor                329\n",
       "time                    181\n",
       "goal                    130\n",
       "second_member            80\n",
       "place                    76\n",
       "benefactive              74\n",
       "term                     64\n",
       "experiencer              51\n",
       "recipient                49\n",
       "addressee                47\n",
       "content                  45\n",
       "stimulus                 42\n",
       "starting_point           41\n",
       "motivation               29\n",
       "endpoint                 29\n",
       "aspect                   22\n",
       "counterparty             19\n",
       "result                   18\n",
       "means                    10\n",
       "trajectory                7\n",
       "effector                  4\n",
       "Abbr                      2\n",
       "thema                     1\n",
       "nomn                      1\n",
       "instrument                1\n",
       "Name: function, dtype: int64"
      ]
     },
     "execution_count": 22,
     "metadata": {},
     "output_type": "execute_result"
    }
   ],
   "source": [
    "df_clean['function'].value_counts()"
   ]
  },
  {
   "cell_type": "code",
   "execution_count": 23,
   "metadata": {
    "id": "m2o_87UeCHNH"
   },
   "outputs": [],
   "source": [
    "df_clean = df_clean.drop(df_clean[df_clean['function'].values == 'thema'].index)\n",
    "df_clean = df_clean.drop(df_clean[df_clean['function'].values == 'nomn'].index)\n",
    "df_clean = df_clean.drop(df_clean[df_clean['function'].values == 'Abbr'].index)\n",
    "df_clean = df_clean.drop(df_clean[df_clean['function'].values == 'instrument'].index)\n",
    "df_clean = df_clean.drop(df_clean[df_clean['function'].values == 'Infr'].index)\n",
    "df_clean = df_clean.drop(df_clean[df_clean['function'].values == 'effector'].index)\n",
    "df_clean = df_clean.drop(df_clean[df_clean['function'].values == 'trajectory'].index)\n",
    "df_clean = df_clean.drop(df_clean[df_clean['function'].values == 'means'].index)\n",
    "df_clean = df_clean.drop(df_clean[df_clean['function'].values == 'result'].index)\n",
    "df_clean = df_clean.drop(df_clean[df_clean['function'].values == 'counterparty'].index)\n",
    "df_clean = df_clean.drop(df_clean[df_clean['function'].values == 'aspect'].index)\n",
    "df_clean = df_clean.drop(df_clean[df_clean['function'].values == 'endpoint'].index)\n",
    "df_clean = df_clean.drop(df_clean[df_clean['function'].values == 'motivation'].index)\n",
    "df_clean = df_clean.drop(df_clean[df_clean['function'].values == 'starting_point'].index)"
   ]
  },
  {
   "cell_type": "code",
   "execution_count": 24,
   "metadata": {
    "colab": {
     "base_uri": "https://localhost:8080/"
    },
    "id": "l0XpusjRCHbL",
    "outputId": "3a4d385b-45cb-4822-e8fc-d6c6101144ff"
   },
   "outputs": [
    {
     "data": {
      "text/plain": [
       "agent                   784\n",
       "patient                 683\n",
       "subj_with_properties    374\n",
       "theme                   368\n",
       "posessor                329\n",
       "time                    181\n",
       "goal                    130\n",
       "second_member            80\n",
       "place                    76\n",
       "benefactive              74\n",
       "term                     64\n",
       "experiencer              51\n",
       "recipient                49\n",
       "addressee                47\n",
       "content                  45\n",
       "stimulus                 42\n",
       "Name: function, dtype: int64"
      ]
     },
     "execution_count": 24,
     "metadata": {},
     "output_type": "execute_result"
    }
   ],
   "source": [
    "df_clean['function'].value_counts()"
   ]
  },
  {
   "cell_type": "code",
   "execution_count": 25,
   "metadata": {
    "colab": {
     "base_uri": "https://localhost:8080/"
    },
    "id": "Y4fJKedcDCkA",
    "outputId": "78fcc28b-74dd-4afe-da36-71bd60144f33"
   },
   "outputs": [
    {
     "data": {
      "text/plain": [
       "(3377, 181)"
      ]
     },
     "execution_count": 25,
     "metadata": {},
     "output_type": "execute_result"
    }
   ],
   "source": [
    "df_clean.shape"
   ]
  },
  {
   "cell_type": "markdown",
   "metadata": {},
   "source": [
    "## Balancing the number of agents and patients"
   ]
  },
  {
   "cell_type": "code",
   "execution_count": 26,
   "metadata": {
    "colab": {
     "base_uri": "https://localhost:8080/"
    },
    "id": "c6FipDIyCHnv",
    "outputId": "87b86a5f-6e97-45d9-c778-9edd26884c86"
   },
   "outputs": [
    {
     "data": {
      "text/plain": [
       "(784, 181)"
      ]
     },
     "execution_count": 26,
     "metadata": {},
     "output_type": "execute_result"
    }
   ],
   "source": [
    "agent_df = df_clean[df_clean['function'].values == 'agent']\n",
    "agent_df.head(5)\n",
    "agent_df.shape"
   ]
  },
  {
   "cell_type": "code",
   "execution_count": 27,
   "metadata": {
    "id": "udtp_XwyCHzP"
   },
   "outputs": [],
   "source": [
    "agent_df = agent_df.sample(frac=1)"
   ]
  },
  {
   "cell_type": "code",
   "execution_count": 28,
   "metadata": {
    "colab": {
     "base_uri": "https://localhost:8080/"
    },
    "id": "nUyNXKs6CH8q",
    "outputId": "e32586ea-059d-4e06-b4d1-b36b2c8bcc02"
   },
   "outputs": [
    {
     "data": {
      "text/plain": [
       "(390, 181)"
      ]
     },
     "execution_count": 28,
     "metadata": {},
     "output_type": "execute_result"
    }
   ],
   "source": [
    "agent_df = agent_df.iloc[:390]\n",
    "agent_df.shape"
   ]
  },
  {
   "cell_type": "code",
   "execution_count": 29,
   "metadata": {
    "colab": {
     "base_uri": "https://localhost:8080/"
    },
    "id": "wyrq2eu1CIHz",
    "outputId": "b09fcb97-581f-4d84-c2ab-fc7e36c6edc0"
   },
   "outputs": [
    {
     "data": {
      "text/plain": [
       "(683, 181)"
      ]
     },
     "execution_count": 29,
     "metadata": {},
     "output_type": "execute_result"
    }
   ],
   "source": [
    "patient_df = df_clean[df_clean['function'].values == 'patient']\n",
    "patient_df.shape"
   ]
  },
  {
   "cell_type": "code",
   "execution_count": 30,
   "metadata": {
    "colab": {
     "base_uri": "https://localhost:8080/"
    },
    "id": "GYmvG-8vCIRZ",
    "outputId": "7a0a9cc3-70b8-42f2-895c-653c8b2ded9d"
   },
   "outputs": [
    {
     "data": {
      "text/plain": [
       "(344, 181)"
      ]
     },
     "execution_count": 30,
     "metadata": {},
     "output_type": "execute_result"
    }
   ],
   "source": [
    "patient_df = patient_df.sample(frac=1)\n",
    "patient_df = patient_df.iloc[:344]\n",
    "patient_df.shape"
   ]
  },
  {
   "cell_type": "code",
   "execution_count": 31,
   "metadata": {
    "colab": {
     "base_uri": "https://localhost:8080/"
    },
    "id": "CeShaIz7Cj4Q",
    "outputId": "f19b94e8-647f-44cb-9594-54f0da6a49c3"
   },
   "outputs": [
    {
     "data": {
      "text/plain": [
       "(1910, 181)"
      ]
     },
     "execution_count": 31,
     "metadata": {},
     "output_type": "execute_result"
    }
   ],
   "source": [
    "df_clean = df_clean.drop(df_clean[df_clean['function'].values == 'agent'].index)\n",
    "df_clean = df_clean.drop(df_clean[df_clean['function'].values == 'patient'].index)\n",
    "df_clean.shape"
   ]
  },
  {
   "cell_type": "code",
   "execution_count": 32,
   "metadata": {
    "colab": {
     "base_uri": "https://localhost:8080/"
    },
    "id": "Hcc9rqjBDSb4",
    "outputId": "9c72730d-8567-48e7-cd01-4034884528ad"
   },
   "outputs": [
    {
     "data": {
      "text/plain": [
       "(2644, 181)"
      ]
     },
     "execution_count": 32,
     "metadata": {},
     "output_type": "execute_result"
    }
   ],
   "source": [
    "df_clean = df_clean.drop(df_clean[df_clean['function'].values == 'thema'].index)\n",
    "df_clean = df_clean.drop(df_clean[df_clean['function'].values == 'nomn'].index)\n",
    "df_clean = df_clean.drop(df_clean[df_clean['function'].values == 'Abbr'].index)\n",
    "df_clean = df_clean.drop(df_clean[df_clean['function'].values == 'instrument'].index)\n",
    "df_clean = df_clean.drop(df_clean[df_clean['function'].values == 'Infr'].index)\n",
    "df_clean = df_clean.drop(df_clean[df_clean['function'].values == 'effector'].index)\n",
    "df_clean = df_clean.drop(df_clean[df_clean['function'].values == 'trajectory'].index)\n",
    "df_clean = df_clean.drop(df_clean[df_clean['function'].values == 'means'].index)\n",
    "df_clean = df_clean.drop(df_clean[df_clean['function'].values == 'result'].index)\n",
    "df_clean = df_clean.drop(df_clean[df_clean['function'].values == 'counterparty'].index)\n",
    "df_clean = df_clean.drop(df_clean[df_clean['function'].values == 'aspect'].index)\n",
    "df_clean = df_clean.drop(df_clean[df_clean['function'].values == 'endpoint'].index)\n",
    "df_clean = df_clean.drop(df_clean[df_clean['function'].values == 'motivation'].index)\n",
    "df_clean = df_clean.drop(df_clean[df_clean['function'].values == 'starting_point'].index)\n",
    "\n",
    "finaldf = pd.concat([df_clean, agent_df, patient_df])\n",
    "finaldf.shape"
   ]
  },
  {
   "cell_type": "code",
   "execution_count": 33,
   "metadata": {
    "colab": {
     "base_uri": "https://localhost:8080/"
    },
    "id": "mFXMugaLDxWS",
    "outputId": "86c673b4-5e72-4c5b-8af2-ff68e5cf1767"
   },
   "outputs": [
    {
     "data": {
      "text/plain": [
       "agent                   390\n",
       "subj_with_properties    374\n",
       "theme                   368\n",
       "patient                 344\n",
       "posessor                329\n",
       "time                    181\n",
       "goal                    130\n",
       "second_member            80\n",
       "place                    76\n",
       "benefactive              74\n",
       "term                     64\n",
       "experiencer              51\n",
       "recipient                49\n",
       "addressee                47\n",
       "content                  45\n",
       "stimulus                 42\n",
       "Name: function, dtype: int64"
      ]
     },
     "execution_count": 33,
     "metadata": {},
     "output_type": "execute_result"
    }
   ],
   "source": [
    "finaldf['function'].value_counts()"
   ]
  },
  {
   "cell_type": "code",
   "execution_count": 34,
   "metadata": {
    "id": "OFhhEQ281Zm8"
   },
   "outputs": [],
   "source": [
    "finaldf = finaldf.sample(frac=1)"
   ]
  },
  {
   "cell_type": "markdown",
   "metadata": {},
   "source": [
    "## Training the model"
   ]
  },
  {
   "cell_type": "code",
   "execution_count": 35,
   "metadata": {
    "id": "Hj5mC9yGEKaU"
   },
   "outputs": [],
   "source": [
    "import numpy as np\n",
    "\n",
    "flabels = np.array(finaldf['function'])\n",
    "ffeatures= finaldf.drop('function', axis = 1)\n",
    "feature_list = list(ffeatures.columns)\n",
    "features = np.array(ffeatures)"
   ]
  },
  {
   "cell_type": "code",
   "execution_count": 36,
   "metadata": {
    "id": "vepmGKubEN_2"
   },
   "outputs": [],
   "source": [
    "from sklearn.model_selection import train_test_split\n",
    "\n",
    "train_features, test_features, train_labels, test_labels = train_test_split(ffeatures, flabels, test_size = 0.25,\n",
    "                                                                           random_state = 42)"
   ]
  },
  {
   "cell_type": "code",
   "execution_count": 37,
   "metadata": {
    "colab": {
     "base_uri": "https://localhost:8080/"
    },
    "id": "kXGq-wc8EOK1",
    "outputId": "c3d6869f-17f6-4169-9a7a-ed63c564f300"
   },
   "outputs": [
    {
     "name": "stdout",
     "output_type": "stream",
     "text": [
      "Training Features Shape: (1983, 180)\n",
      "Training Labels Shape: (1983,)\n",
      "Testing Features Shape: (661, 180)\n",
      "Testing Labels Shape: (661,)\n"
     ]
    }
   ],
   "source": [
    "print('Training Features Shape:', train_features.shape)\n",
    "print('Training Labels Shape:', train_labels.shape)\n",
    "print('Testing Features Shape:', test_features.shape)\n",
    "print('Testing Labels Shape:', test_labels.shape)"
   ]
  },
  {
   "cell_type": "code",
   "execution_count": 38,
   "metadata": {
    "id": "WiRSgFvbETdC"
   },
   "outputs": [],
   "source": [
    "from sklearn.ensemble import RandomForestClassifier\n",
    "\n",
    "clf=RandomForestClassifier(n_estimators=100)\n",
    "\n",
    "clf.fit(train_features, train_labels)\n",
    "y_pred=clf.predict(test_features)"
   ]
  },
  {
   "cell_type": "code",
   "execution_count": 39,
   "metadata": {
    "colab": {
     "base_uri": "https://localhost:8080/"
    },
    "id": "mICzOgGkETnv",
    "outputId": "b8d309b7-1a4d-4cec-ab8b-178a93baab18"
   },
   "outputs": [
    {
     "name": "stdout",
     "output_type": "stream",
     "text": [
      "Accuracy: 0.45537065052950076\n"
     ]
    }
   ],
   "source": [
    "from sklearn import metrics\n",
    "print(\"Accuracy:\",metrics.accuracy_score(test_labels, y_pred))"
   ]
  },
  {
   "cell_type": "code",
   "execution_count": 40,
   "metadata": {
    "colab": {
     "base_uri": "https://localhost:8080/"
    },
    "id": "fYJ-Ot8cETwm",
    "outputId": "e854799a-c1cf-4db6-81dc-059a80611af6"
   },
   "outputs": [
    {
     "name": "stdout",
     "output_type": "stream",
     "text": [
      "                      precision    recall  f1-score   support\n",
      "\n",
      "           addressee       0.43      0.21      0.29        14\n",
      "               agent       0.53      0.63      0.57        97\n",
      "         benefactive       0.35      0.27      0.31        22\n",
      "             content       0.20      0.09      0.13        11\n",
      "         experiencer       0.00      0.00      0.00        14\n",
      "                goal       0.36      0.47      0.41        30\n",
      "             patient       0.42      0.37      0.39        87\n",
      "               place       0.33      0.08      0.12        26\n",
      "            posessor       0.46      0.54      0.50        81\n",
      "           recipient       0.38      0.73      0.50        11\n",
      "       second_member       0.18      0.18      0.18        17\n",
      "            stimulus       0.00      0.00      0.00        11\n",
      "subj_with_properties       0.56      0.55      0.55       102\n",
      "                term       0.55      0.40      0.46        15\n",
      "               theme       0.39      0.49      0.43        84\n",
      "                time       0.75      0.62      0.68        39\n",
      "\n",
      "            accuracy                           0.46       661\n",
      "           macro avg       0.37      0.35      0.34       661\n",
      "        weighted avg       0.45      0.46      0.44       661\n",
      "\n"
     ]
    }
   ],
   "source": [
    "print(metrics.classification_report(test_labels, y_pred))"
   ]
  },
  {
   "cell_type": "markdown",
   "metadata": {},
   "source": [
    "# Using PyCM to evaluate results"
   ]
  },
  {
   "cell_type": "code",
   "execution_count": 21,
   "metadata": {},
   "outputs": [],
   "source": [
    "from pycm import *\n",
    "\n",
    "def plot_confusion_matrix(cm, normalize=False, title='Confusion matrix', cmap=plt.cm.Blues):\n",
    "    plt_cm = []\n",
    "    for i in cm.classes :\n",
    "        row=[]\n",
    "        for j in cm.classes:\n",
    "            row.append(cm.table[i][j])\n",
    "        plt_cm.append(row)\n",
    "    plt_cm = np.array(plt_cm)\n",
    "    if normalize:\n",
    "        plt_cm = plt_cm.astype('float') / plt_cm.sum(axis=1)[:, np.newaxis]     \n",
    "    plt.imshow(plt_cm, interpolation='nearest', cmap=cmap)\n",
    "    plt.title(title)\n",
    "    plt.colorbar()\n",
    "    tick_marks = np.arange(len(cm.classes))\n",
    "    plt.xticks(tick_marks, cm.classes, rotation=45)\n",
    "    plt.yticks(tick_marks, cm.classes)\n",
    "\n",
    "    fmt = '.2f' if normalize else 'd'\n",
    "    thresh = plt_cm.max() / 2.\n",
    "    for i, j in itertools.product(range(plt_cm.shape[0]), range(plt_cm.shape[1])):\n",
    "        plt.text(j, i, format(plt_cm[i, j], fmt),\n",
    "                horizontalalignment=\"center\",\n",
    "                color=\"white\" if plt_cm[i, j] > thresh else \"black\")\n",
    "\n",
    "    plt.tight_layout()\n",
    "    plt.ylabel('Actual')\n",
    "    plt.xlabel('Prediction')"
   ]
  },
  {
   "cell_type": "code",
   "execution_count": 46,
   "metadata": {},
   "outputs": [
    {
     "name": "stdout",
     "output_type": "stream",
     "text": [
      "[INFO] Clases\n",
      "['addressee', 'agent', 'benefactive', 'content', 'experiencer', 'goal', 'patient', 'place', 'posessor', 'recipient', 'second_member', 'stimulus', 'subj_with_properties', 'term', 'theme', 'time']\n",
      "{'addressee': {'addressee': 3, 'agent': 0, 'benefactive': 1, 'content': 0, 'experiencer': 0, 'goal': 2, 'patient': 0, 'place': 0, 'posessor': 1, 'recipient': 4, 'second_member': 0, 'stimulus': 1, 'subj_with_properties': 0, 'term': 0, 'theme': 1, 'time': 1}, 'agent': {'addressee': 0, 'agent': 61, 'benefactive': 0, 'content': 0, 'experiencer': 2, 'goal': 2, 'patient': 13, 'place': 0, 'posessor': 3, 'recipient': 0, 'second_member': 1, 'stimulus': 0, 'subj_with_properties': 12, 'term': 0, 'theme': 3, 'time': 0}, 'benefactive': {'addressee': 1, 'agent': 2, 'benefactive': 6, 'content': 0, 'experiencer': 0, 'goal': 2, 'patient': 1, 'place': 0, 'posessor': 4, 'recipient': 3, 'second_member': 0, 'stimulus': 0, 'subj_with_properties': 0, 'term': 0, 'theme': 3, 'time': 0}, 'content': {'addressee': 0, 'agent': 1, 'benefactive': 0, 'content': 1, 'experiencer': 0, 'goal': 0, 'patient': 1, 'place': 0, 'posessor': 2, 'recipient': 0, 'second_member': 0, 'stimulus': 0, 'subj_with_properties': 1, 'term': 0, 'theme': 5, 'time': 0}, 'experiencer': {'addressee': 0, 'agent': 8, 'benefactive': 1, 'content': 0, 'experiencer': 0, 'goal': 0, 'patient': 0, 'place': 0, 'posessor': 1, 'recipient': 1, 'second_member': 2, 'stimulus': 1, 'subj_with_properties': 0, 'term': 0, 'theme': 0, 'time': 0}, 'goal': {'addressee': 0, 'agent': 0, 'benefactive': 0, 'content': 1, 'experiencer': 0, 'goal': 14, 'patient': 4, 'place': 0, 'posessor': 3, 'recipient': 0, 'second_member': 1, 'stimulus': 2, 'subj_with_properties': 0, 'term': 0, 'theme': 5, 'time': 0}, 'patient': {'addressee': 0, 'agent': 15, 'benefactive': 0, 'content': 1, 'experiencer': 0, 'goal': 3, 'patient': 32, 'place': 0, 'posessor': 4, 'recipient': 4, 'second_member': 4, 'stimulus': 0, 'subj_with_properties': 15, 'term': 1, 'theme': 8, 'time': 0}, 'place': {'addressee': 0, 'agent': 0, 'benefactive': 2, 'content': 0, 'experiencer': 0, 'goal': 5, 'patient': 1, 'place': 2, 'posessor': 7, 'recipient': 0, 'second_member': 1, 'stimulus': 0, 'subj_with_properties': 1, 'term': 0, 'theme': 6, 'time': 1}, 'posessor': {'addressee': 2, 'agent': 0, 'benefactive': 4, 'content': 1, 'experiencer': 1, 'goal': 0, 'patient': 6, 'place': 1, 'posessor': 44, 'recipient': 1, 'second_member': 2, 'stimulus': 0, 'subj_with_properties': 0, 'term': 0, 'theme': 16, 'time': 3}, 'recipient': {'addressee': 1, 'agent': 0, 'benefactive': 1, 'content': 0, 'experiencer': 0, 'goal': 1, 'patient': 0, 'place': 0, 'posessor': 0, 'recipient': 8, 'second_member': 0, 'stimulus': 0, 'subj_with_properties': 0, 'term': 0, 'theme': 0, 'time': 0}, 'second_member': {'addressee': 0, 'agent': 4, 'benefactive': 1, 'content': 0, 'experiencer': 0, 'goal': 0, 'patient': 1, 'place': 0, 'posessor': 5, 'recipient': 0, 'second_member': 3, 'stimulus': 0, 'subj_with_properties': 1, 'term': 0, 'theme': 2, 'time': 0}, 'stimulus': {'addressee': 0, 'agent': 3, 'benefactive': 0, 'content': 0, 'experiencer': 0, 'goal': 1, 'patient': 2, 'place': 0, 'posessor': 2, 'recipient': 0, 'second_member': 0, 'stimulus': 0, 'subj_with_properties': 2, 'term': 0, 'theme': 0, 'time': 1}, 'subj_with_properties': {'addressee': 0, 'agent': 18, 'benefactive': 0, 'content': 1, 'experiencer': 1, 'goal': 0, 'patient': 8, 'place': 0, 'posessor': 2, 'recipient': 0, 'second_member': 2, 'stimulus': 2, 'subj_with_properties': 56, 'term': 0, 'theme': 12, 'time': 0}, 'term': {'addressee': 0, 'agent': 0, 'benefactive': 0, 'content': 0, 'experiencer': 0, 'goal': 0, 'patient': 1, 'place': 1, 'posessor': 2, 'recipient': 0, 'second_member': 0, 'stimulus': 1, 'subj_with_properties': 0, 'term': 6, 'theme': 2, 'time': 2}, 'theme': {'addressee': 0, 'agent': 4, 'benefactive': 0, 'content': 0, 'experiencer': 0, 'goal': 5, 'patient': 5, 'place': 2, 'posessor': 16, 'recipient': 0, 'second_member': 1, 'stimulus': 0, 'subj_with_properties': 8, 'term': 2, 'theme': 41, 'time': 0}, 'time': {'addressee': 0, 'agent': 0, 'benefactive': 1, 'content': 0, 'experiencer': 0, 'goal': 4, 'patient': 1, 'place': 0, 'posessor': 0, 'recipient': 0, 'second_member': 0, 'stimulus': 1, 'subj_with_properties': 4, 'term': 2, 'theme': 2, 'time': 24}}\n",
      "Predict                    addressee                  agent                      benefactive                content                    experiencer                goal                       patient                    place                      posessor                   recipient                  second_member              stimulus                   subj_with_properties       term                       theme                      time                       \n",
      "Actual\n",
      "addressee                  3                          0                          1                          0                          0                          2                          0                          0                          1                          4                          0                          1                          0                          0                          1                          1                          \n",
      "\n",
      "agent                      0                          61                         0                          0                          2                          2                          13                         0                          3                          0                          1                          0                          12                         0                          3                          0                          \n",
      "\n",
      "benefactive                1                          2                          6                          0                          0                          2                          1                          0                          4                          3                          0                          0                          0                          0                          3                          0                          \n",
      "\n",
      "content                    0                          1                          0                          1                          0                          0                          1                          0                          2                          0                          0                          0                          1                          0                          5                          0                          \n",
      "\n",
      "experiencer                0                          8                          1                          0                          0                          0                          0                          0                          1                          1                          2                          1                          0                          0                          0                          0                          \n",
      "\n",
      "goal                       0                          0                          0                          1                          0                          14                         4                          0                          3                          0                          1                          2                          0                          0                          5                          0                          \n",
      "\n",
      "patient                    0                          15                         0                          1                          0                          3                          32                         0                          4                          4                          4                          0                          15                         1                          8                          0                          \n",
      "\n",
      "place                      0                          0                          2                          0                          0                          5                          1                          2                          7                          0                          1                          0                          1                          0                          6                          1                          \n",
      "\n",
      "posessor                   2                          0                          4                          1                          1                          0                          6                          1                          44                         1                          2                          0                          0                          0                          16                         3                          \n",
      "\n",
      "recipient                  1                          0                          1                          0                          0                          1                          0                          0                          0                          8                          0                          0                          0                          0                          0                          0                          \n",
      "\n",
      "second_member              0                          4                          1                          0                          0                          0                          1                          0                          5                          0                          3                          0                          1                          0                          2                          0                          \n",
      "\n",
      "stimulus                   0                          3                          0                          0                          0                          1                          2                          0                          2                          0                          0                          0                          2                          0                          0                          1                          \n",
      "\n",
      "subj_with_properties       0                          18                         0                          1                          1                          0                          8                          0                          2                          0                          2                          2                          56                         0                          12                         0                          \n",
      "\n",
      "term                       0                          0                          0                          0                          0                          0                          1                          1                          2                          0                          0                          1                          0                          6                          2                          2                          \n",
      "\n",
      "theme                      0                          4                          0                          0                          0                          5                          5                          2                          16                         0                          1                          0                          8                          2                          41                         0                          \n",
      "\n",
      "time                       0                          0                          1                          0                          0                          4                          1                          0                          0                          0                          0                          1                          4                          2                          2                          24                         \n",
      "\n",
      "\n",
      "\n",
      "\n",
      "\n",
      "Overall Statistics : \n",
      "\n",
      "95% CI                                                            (0.41741,0.49334)\n",
      "ACC Macro                                                         0.93192\n",
      "ARI                                                               0.20546\n",
      "AUNP                                                              0.69425\n",
      "AUNU                                                              0.65644\n",
      "Bangdiwala B                                                      0.25535\n",
      "Bennett S                                                         0.41906\n",
      "CBA                                                               0.30465\n",
      "CSI                                                               -0.28148\n",
      "Chi-Squared                                                       1603.34903\n",
      "Chi-Squared DF                                                    225\n",
      "Conditional Entropy                                               2.22511\n",
      "Cramer V                                                          0.40213\n",
      "Cross Entropy                                                     3.63291\n",
      "F1 Macro                                                          0.34449\n",
      "F1 Micro                                                          0.45537\n",
      "FNR Macro                                                         0.6489\n",
      "FNR Micro                                                         0.54463\n",
      "FPR Macro                                                         0.03822\n",
      "FPR Micro                                                         0.03631\n",
      "Gwet AC1                                                          0.42112\n",
      "Hamming Loss                                                      0.54463\n",
      "Joint Entropy                                                     5.76259\n",
      "KL Divergence                                                     0.09544\n",
      "Kappa                                                             0.38709\n",
      "Kappa 95% CI                                                      (0.34437,0.42982)\n",
      "Kappa No Prevalence                                               -0.08926\n",
      "Kappa Standard Error                                              0.0218\n",
      "Kappa Unbiased                                                    0.38628\n",
      "Krippendorff Alpha                                                0.38674\n",
      "Lambda A                                                          0.36494\n",
      "Lambda B                                                          0.38165\n",
      "Mutual Information                                                1.10067\n",
      "NIR                                                               0.15431\n",
      "Overall ACC                                                       0.45537\n",
      "Overall CEN                                                       0.48555\n",
      "Overall J                                                         (3.61226,0.22577)\n",
      "Overall MCC                                                       0.38814\n",
      "Overall MCEN                                                      0.57904\n",
      "Overall RACC                                                      0.1114\n",
      "Overall RACCU                                                     0.11258\n",
      "P-Value                                                           -0.0\n",
      "PPV Macro                                                         0.36742\n",
      "PPV Micro                                                         0.45537\n",
      "Pearson C                                                         0.84148\n",
      "Phi-Squared                                                       2.42564\n",
      "RCI                                                               0.31115\n",
      "RR                                                                41.3125\n",
      "Reference Entropy                                                 3.53748\n",
      "Response Entropy                                                  3.32579\n",
      "SOA1(Landis & Koch)                                               Fair\n",
      "SOA2(Fleiss)                                                      Poor\n",
      "SOA3(Altman)                                                      Fair\n",
      "SOA4(Cicchetti)                                                   Poor\n",
      "SOA5(Cramer)                                                      Relatively Strong\n",
      "SOA6(Matthews)                                                    Weak\n",
      "Scott PI                                                          0.38628\n",
      "Standard Error                                                    0.01937\n",
      "TNR Macro                                                         0.96178\n",
      "TNR Micro                                                         0.96369\n",
      "TPR Macro                                                         0.3511\n",
      "TPR Micro                                                         0.45537\n",
      "Zero-one Loss                                                     360\n",
      "\n",
      "Class Statistics :\n",
      "\n",
      "Classes                                                           addressee                agent                    benefactive              content                  experiencer              goal                     patient                  place                    posessor                 recipient                second_member            stimulus                 subj_with_properties     term                     theme                    time                     \n",
      "ACC(Accuracy)                                                     0.97731                  0.86233                  0.95915                  0.97882                  0.97277                  0.93797                  0.85023                  0.95764                  0.86536                  0.97579                  0.95764                  0.97126                  0.86384                  0.97882                  0.83661                  0.9652                   \n",
      "AGF(Adjusted F-score)                                             0.48435                  0.74918                  0.52825                  0.31728                  0.0                      0.65398                  0.58581                  0.29684                  0.6978                   0.7814                   0.41549                  0.0                      0.71158                  0.64591                  0.65154                  0.79023                  \n",
      "AGM(Adjusted geometric mean)                                      0.7248                   0.82201                  0.74632                  0.64431                  0                        0.81154                  0.74106                  0.62789                  0.80002                  0.91155                  0.69321                  0                        0.80746                  0.80905                  0.76495                  0.88011                  \n",
      "AM(Difference between automatic and manual classification)        -7                       19                       -5                       -6                       -10                      9                        -11                      -20                      15                       10                       0                        -3                       -2                       -4                       22                       -7                       \n",
      "AUC(Area under the ROC curve)                                     0.60405                  0.76567                  0.62776                  0.54238                  0.49691                  0.71352                  0.64558                  0.53531                  0.72678                  0.85364                  0.57737                  0.49385                  0.73515                  0.69613                  0.68772                  0.80126                  \n",
      "AUCI(AUC value interpretation)                                    Fair                     Good                     Fair                     Poor                     Poor                     Good                     Fair                     Poor                     Good                     Very Good                Poor                     Poor                     Good                     Fair                     Fair                     Very Good                \n",
      "AUPR(Area under the PR curve)                                     0.32143                  0.57736                  0.31283                  0.14545                  0.0                      0.41282                  0.39443                  0.20513                  0.50077                  0.55411                  0.17647                  0.0                      0.55451                  0.47273                  0.43744                  0.68269                  \n",
      "BCD(Bray-Curtis dissimilarity)                                    0.0053                   0.01437                  0.00378                  0.00454                  0.00756                  0.00681                  0.00832                  0.01513                  0.01135                  0.00756                  0.0                      0.00227                  0.00151                  0.00303                  0.01664                  0.0053                   \n",
      "BM(Informedness or bookmaker informedness)                        0.2081                   0.53135                  0.25551                  0.08476                  -0.00618                 0.42705                  0.29116                  0.07062                  0.45355                  0.70727                  0.15473                  -0.01231                 0.47031                  0.39226                  0.37544                  0.60252                  \n",
      "CEN(Confusion entropy)                                            0.52293                  0.40071                  0.58106                  0.53993                  0.5328                   0.53787                  0.56055                  0.56826                  0.50613                  0.37731                  0.64039                  0.70744                  0.40914                  0.43742                  0.54603                  0.3292                   \n",
      "DOR(Diagnostic odds ratio)                                        43.84091                 15.68131                 21.40909                 16.15                    0.0                      21.21                    7.00826                  13.14583                 12.07484                 130.66667                9.64286                  0.0                      14.24901                 85.46667                 7.51055                  122.8                    \n",
      "DP(Discriminant power)                                            0.90522                  0.65905                  0.7336                   0.6661                   None                     0.73136                  0.46621                  0.61682                  0.59647                  1.1667                   0.54262                  None                     0.63611                  1.06506                  0.48278                  1.15184                  \n",
      "DPI(Discriminant power interpretation)                            Poor                     Poor                     Poor                     Poor                     None                     Poor                     Poor                     Poor                     Poor                     Limited                  Poor                     None                     Poor                     Limited                  Poor                     Limited                  \n",
      "ERR(Error rate)                                                   0.02269                  0.13767                  0.04085                  0.02118                  0.02723                  0.06203                  0.14977                  0.04236                  0.13464                  0.02421                  0.04236                  0.02874                  0.13616                  0.02118                  0.16339                  0.0348                   \n",
      "F0.5(F0.5 score)                                                  0.35714                  0.54367                  0.33333                  0.16129                  0.0                      0.37634                  0.40921                  0.2                      0.47312                  0.42105                  0.17647                  0.0                      0.55777                  0.50847                  0.40354                  0.71856                  \n",
      "F1(F1 score - harmonic mean of precision and sensitivity)         0.28571                  0.57277                  0.30769                  0.125                    0.0                      0.4058                   0.39264                  0.125                    0.49718                  0.5                      0.17647                  0.0                      0.55446                  0.46154                  0.43158                  0.67606                  \n",
      "F2(F2 score)                                                      0.2381                   0.60516                  0.28571                  0.10204                  0.0                      0.44025                  0.37736                  0.09091                  0.52381                  0.61538                  0.17647                  0.0                      0.55118                  0.42254                  0.4638                   0.6383                   \n",
      "FDR(False discovery rate)                                         0.57143                  0.47414                  0.64706                  0.8                      1.0                      0.64103                  0.57895                  0.66667                  0.54167                  0.61905                  0.82353                  1.0                      0.44                     0.45455                  0.61321                  0.25                     \n",
      "FN(False negative/miss/type 2 error)                              11                       36                       16                       10                       14                       16                       55                       24                       37                       3                        14                       11                       46                       9                        43                       15                       \n",
      "FNR(Miss rate or false negative rate)                             0.78571                  0.37113                  0.72727                  0.90909                  1.0                      0.53333                  0.63218                  0.92308                  0.45679                  0.27273                  0.82353                  1.0                      0.45098                  0.6                      0.5119                   0.38462                  \n",
      "FOR(False omission rate)                                          0.01682                  0.06606                  0.02484                  0.01524                  0.02131                  0.02572                  0.09402                  0.03664                  0.06549                  0.00469                  0.02174                  0.01685                  0.082                    0.01385                  0.07748                  0.02385                  \n",
      "FP(False positive/type 1 error/false alarm)                       4                        55                       11                       4                        4                        25                       44                       4                        52                       13                       14                       8                        44                       5                        65                       8                        \n",
      "FPR(Fall-out or false positive rate)                              0.00618                  0.09752                  0.01721                  0.00615                  0.00618                  0.03962                  0.07666                  0.0063                   0.08966                  0.02                     0.02174                  0.01231                  0.07871                  0.00774                  0.11265                  0.01286                  \n",
      "G(G-measure geometric mean of precision and sensitivity)          0.30305                  0.57506                  0.31025                  0.13484                  0.0                      0.40929                  0.39354                  0.16013                  0.49897                  0.52636                  0.17647                  0.0                      0.55448                  0.4671                   0.4345                   0.67937                  \n",
      "GI(Gini index)                                                    0.2081                   0.53135                  0.25551                  0.08476                  -0.00618                 0.42705                  0.29116                  0.07062                  0.45355                  0.70727                  0.15473                  -0.01231                 0.47031                  0.39226                  0.37544                  0.60252                  \n",
      "GM(G-mean geometric mean of specificity and sensitivity)          0.46148                  0.75335                  0.51772                  0.30058                  0.0                      0.66946                  0.58277                  0.27648                  0.70321                  0.84423                  0.41549                  0.0                      0.7112                   0.63                     0.65811                  0.7794                   \n",
      "IBA(Index of balanced accuracy)                                   0.04695                  0.41225                  0.07771                  0.00877                  0.0                      0.22691                  0.15095                  0.00636                  0.31296                  0.5326                   0.03422                  0.0                      0.31751                  0.16183                  0.26019                  0.38164                  \n",
      "ICSI(Individual classification success index)                     -0.35714                 0.15473                  -0.37433                 -0.70909                 -1.0                     -0.17436                 -0.21113                 -0.58974                 0.00154                  0.10823                  -0.64706                 -1.0                     0.10902                  -0.05455                 -0.12511                 0.36538                  \n",
      "IS(Information score)                                             4.33876                  1.84135                  3.40657                  3.58715                  None                     2.98357                  1.67764                  3.0831                   1.90313                  4.51676                  2.77854                  None                     1.85958                  4.58715                  1.60582                  3.66807                  \n",
      "J(Jaccard index)                                                  0.16667                  0.40132                  0.18182                  0.06667                  0.0                      0.25455                  0.24427                  0.06667                  0.33083                  0.33333                  0.09677                  0.0                      0.38356                  0.3                      0.27517                  0.51064                  \n",
      "LS(Lift score)                                                    20.23469                 3.58345                  10.60428                 12.01818                 0.0                      7.9094                   3.19903                  8.47436                  3.74023                  22.89177                 6.86159                  0.0                      3.62902                  24.03636                 3.04369                  12.71154                 \n",
      "MCC(Matthews correlation coefficient)                             0.29272                  0.49428                  0.28954                  0.12514                  -0.01148                 0.37725                  0.30858                  0.14475                  0.42211                  0.51587                  0.15473                  -0.0144                  0.47414                  0.45665                  0.34078                  0.66146                  \n",
      "MCCI(Matthews correlation coefficient interpretation)             Negligible               Weak                     Negligible               Negligible               Negligible               Weak                     Weak                     Negligible               Weak                     Moderate                 Negligible               Negligible               Weak                     Weak                     Weak                     Moderate                 \n",
      "MCEN(Modified confusion entropy)                                  0.57231                  0.50213                  0.64652                  0.55822                  0.5328                   0.62508                  0.64891                  0.58844                  0.61734                  0.44669                  0.67783                  0.70744                  0.50723                  0.51465                  0.64447                  0.43795                  \n",
      "MK(Markedness)                                                    0.41175                  0.45981                  0.3281                   0.18476                  -0.02131                 0.33325                  0.32704                  0.29669                  0.39285                  0.37626                  0.15473                  -0.01685                 0.478                    0.53161                  0.30931                  0.72615                  \n",
      "N(Condition negative)                                             647                      564                      639                      650                      647                      631                      574                      635                      580                      650                      644                      650                      559                      646                      577                      622                      \n",
      "NLR(Negative likelihood ratio)                                    0.7906                   0.41124                  0.74001                  0.91472                  1.00622                  0.55534                  0.68467                  0.92893                  0.50178                  0.27829                  0.84183                  1.01246                  0.48951                  0.60468                  0.57689                  0.38963                  \n",
      "NLRI(Negative likelihood ratio interpretation)                    Negligible               Poor                     Negligible               Negligible               Negligible               Negligible               Negligible               Negligible               Negligible               Poor                     Negligible               Negligible               Poor                     Negligible               Negligible               Poor                     \n",
      "NPV(Negative predictive value)                                    0.98318                  0.93394                  0.97516                  0.98476                  0.97869                  0.97428                  0.90598                  0.96336                  0.93451                  0.99531                  0.97826                  0.98315                  0.918                    0.98615                  0.92252                  0.97615                  \n",
      "OC(Overlap coefficient)                                           0.42857                  0.62887                  0.35294                  0.2                      0.0                      0.46667                  0.42105                  0.33333                  0.54321                  0.72727                  0.17647                  0.0                      0.56                     0.54545                  0.4881                   0.75                     \n",
      "OOC(Otsuka-Ochiai coefficient)                                    0.30305                  0.57506                  0.31025                  0.13484                  0.0                      0.40929                  0.39354                  0.16013                  0.49897                  0.52636                  0.17647                  0.0                      0.55448                  0.4671                   0.4345                   0.67937                  \n",
      "OP(Optimized precision)                                           0.33205                  0.68365                  0.3936                   0.14643                  -0.02723                 0.592                    0.41997                  0.10134                  0.61278                  0.82776                  0.26329                  -0.02874                 0.61065                  0.55343                  0.54634                  0.73322                  \n",
      "P(Condition positive or support)                                  14                       97                       22                       11                       14                       30                       87                       26                       81                       11                       17                       11                       102                      15                       84                       39                       \n",
      "PLR(Positive likelihood ratio)                                    34.66071                 6.44873                  15.84298                 14.77273                 0.0                      11.77867                 4.79833                  12.21154                 6.05888                  36.36364                 8.11765                  0.0                      6.97504                  51.68                    4.33278                  47.84615                 \n",
      "PLRI(Positive likelihood ratio interpretation)                    Good                     Fair                     Good                     Good                     Negligible               Good                     Poor                     Good                     Fair                     Good                     Fair                     Negligible               Fair                     Good                     Poor                     Good                     \n",
      "POP(Population)                                                   661                      661                      661                      661                      661                      661                      661                      661                      661                      661                      661                      661                      661                      661                      661                      661                      \n",
      "PPV(Precision or positive predictive value)                       0.42857                  0.52586                  0.35294                  0.2                      0.0                      0.35897                  0.42105                  0.33333                  0.45833                  0.38095                  0.17647                  0.0                      0.56                     0.54545                  0.38679                  0.75                     \n",
      "PRE(Prevalence)                                                   0.02118                  0.14675                  0.03328                  0.01664                  0.02118                  0.04539                  0.13162                  0.03933                  0.12254                  0.01664                  0.02572                  0.01664                  0.15431                  0.02269                  0.12708                  0.059                    \n",
      "Q(Yule Q - coefficient of colligation)                            0.9554                   0.88011                  0.91075                  0.88338                  -1.0                     0.90995                  0.75026                  0.85862                  0.84703                  0.98481                  0.81208                  -1.0                     0.86884                  0.97687                  0.765                    0.98384                  \n",
      "QI(Yule Q interpretation)                                         Strong                   Strong                   Strong                   Strong                   Negligible               Strong                   Strong                   Strong                   Strong                   Strong                   Strong                   Negligible               Strong                   Strong                   Strong                   Strong                   \n",
      "RACC(Random accuracy)                                             0.00022                  0.02575                  0.00086                  0.00013                  0.00013                  0.00268                  0.01513                  0.00036                  0.0178                   0.00053                  0.00066                  0.0002                   0.02335                  0.00038                  0.02038                  0.00286                  \n",
      "RACCU(Random accuracy unbiased)                                   0.00025                  0.02596                  0.00087                  0.00015                  0.00019                  0.00272                  0.0152                   0.00059                  0.01793                  0.00059                  0.00066                  0.00021                  0.02335                  0.00039                  0.02066                  0.00288                  \n",
      "TN(True negative/correct rejection)                               643                      509                      628                      646                      643                      606                      530                      631                      528                      637                      630                      642                      515                      641                      512                      614                      \n",
      "TNR(Specificity or true negative rate)                            0.99382                  0.90248                  0.98279                  0.99385                  0.99382                  0.96038                  0.92334                  0.9937                   0.91034                  0.98                     0.97826                  0.98769                  0.92129                  0.99226                  0.88735                  0.98714                  \n",
      "TON(Test outcome negative)                                        654                      545                      644                      656                      657                      622                      585                      655                      565                      640                      644                      653                      561                      650                      555                      629                      \n",
      "TOP(Test outcome positive)                                        7                        116                      17                       5                        4                        39                       76                       6                        96                       21                       17                       8                        100                      11                       106                      32                       \n",
      "TP(True positive/hit)                                             3                        61                       6                        1                        0                        14                       32                       2                        44                       8                        3                        0                        56                       6                        41                       24                       \n",
      "TPR(Sensitivity, recall, hit rate, or true positive rate)         0.21429                  0.62887                  0.27273                  0.09091                  0.0                      0.46667                  0.36782                  0.07692                  0.54321                  0.72727                  0.17647                  0.0                      0.54902                  0.4                      0.4881                   0.61538                  \n",
      "Y(Youden index)                                                   0.2081                   0.53135                  0.25551                  0.08476                  -0.00618                 0.42705                  0.29116                  0.07062                  0.45355                  0.70727                  0.15473                  -0.01231                 0.47031                  0.39226                  0.37544                  0.60252                  \n",
      "dInd(Distance index)                                              0.78574                  0.38373                  0.72748                  0.90911                  1.00002                  0.5348                   0.63681                  0.9231                   0.46551                  0.27346                  0.82382                  1.00008                  0.4578                   0.60005                  0.52415                  0.38483                  \n",
      "sInd(Similarity index)                                            0.4444                   0.72866                  0.4856                   0.35716                  0.29288                  0.62184                  0.5497                   0.34727                  0.67084                  0.80663                  0.41747                  0.29284                  0.67629                  0.5757                   0.62937                  0.72788                  \n",
      "\n"
     ]
    },
    {
     "name": "stderr",
     "output_type": "stream",
     "text": [
      "/Users/ciwwwnd/opt/anaconda3/lib/python3.8/site-packages/pycm/pycm_obj.py:195: RuntimeWarning: The confusion matrix is a high dimension matrix and won't be demonstrated properly.\n",
      "If confusion matrix has too many zeros (sparse matrix) you can set `sparse` flag to True in printing functions otherwise by using save_csv method to save the confusion matrix in csv format you'll have better demonstration.\n",
      "  warn(CLASS_NUMBER_WARNING, RuntimeWarning)\n"
     ]
    }
   ],
   "source": [
    "clf.fit(train_features, train_labels)\n",
    "y_predicted = clf.predict(test_features)\n",
    "\n",
    "cm = ConfusionMatrix(actual_vector=test_labels, predict_vector=y_pred)\n",
    "\n",
    "print(\"[INFO] Clases\")\n",
    "print(cm.classes)\n",
    "print(cm.table)\n",
    "print(cm)"
   ]
  },
  {
   "cell_type": "code",
   "execution_count": 47,
   "metadata": {},
   "outputs": [],
   "source": [
    "from sklearn import svm\n",
    "clf = svm.SVC(kernel='linear', C=1,gamma=1)"
   ]
  },
  {
   "cell_type": "code",
   "execution_count": 48,
   "metadata": {},
   "outputs": [
    {
     "data": {
      "text/plain": [
       "{'Status': True, 'Message': '/Users/ciwwwnd/Desktop/論文/cm1_filtered2.csv'}"
      ]
     },
     "execution_count": 48,
     "metadata": {},
     "output_type": "execute_result"
    }
   ],
   "source": [
    "cm.save_csv(os.path.join(\"/Users/ciwwwnd/Desktop/論文\",\"cm1_filtered2\"))"
   ]
  }
 ],
 "metadata": {
  "colab": {
   "name": "Copy of Plain Random Forest.ipynb",
   "provenance": []
  },
  "kernelspec": {
   "display_name": "Python 3",
   "language": "python",
   "name": "python3"
  },
  "language_info": {
   "codemirror_mode": {
    "name": "ipython",
    "version": 3
   },
   "file_extension": ".py",
   "mimetype": "text/x-python",
   "name": "python",
   "nbconvert_exporter": "python",
   "pygments_lexer": "ipython3",
   "version": "3.8.3"
  }
 },
 "nbformat": 4,
 "nbformat_minor": 1
}
